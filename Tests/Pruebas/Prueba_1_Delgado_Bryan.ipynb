{
  "nbformat": 4,
  "nbformat_minor": 0,
  "metadata": {
    "colab": {
      "provenance": [],
      "authorship_tag": "ABX9TyPFDA2ig+TUatEE+1gGPGt2",
      "include_colab_link": true
    },
    "kernelspec": {
      "name": "python3",
      "display_name": "Python 3"
    },
    "language_info": {
      "name": "python"
    }
  },
  "cells": [
    {
      "cell_type": "markdown",
      "metadata": {
        "id": "view-in-github",
        "colab_type": "text"
      },
      "source": [
        "<a href=\"https://colab.research.google.com/github/bryandelgado99/Fundamentos-de-IA/blob/main/Prueba_1_Delgado_Bryan.ipynb\" target=\"_parent\"><img src=\"https://colab.research.google.com/assets/colab-badge.svg\" alt=\"Open In Colab\"/></a>"
      ]
    },
    {
      "cell_type": "markdown",
      "source": [
        "Prueba 1 - Fundamentos de Inteligencia Artificial\n",
        "Tema: Clasificación\n",
        "\n",
        "Nombre: Bryan Paul Delgado Yela\n",
        "Fecha: 04/12/2023"
      ],
      "metadata": {
        "id": "w_5iV6yXBqeF"
      }
    },
    {
      "cell_type": "markdown",
      "source": [
        "El propósito de esta tarea es construir un modelo de clasificación que pueda predecir el tipo de animal según su clasificación, en función de sus características. Para ello, se proporciona un conjunto de datos que contiene información sobre diferentes animales.\n",
        "\n",
        "El conjunto de datos está en formato csv y contiene las siguientes columnas:\n",
        "-\tanimal_name: nombre del animal\n",
        "-\thair: 1: tiene cabello, 0:no tiene\n",
        "-\tfeathers: 1: tiene plumas, 0:no tiene\n",
        "-\teggs: 1: pone huevos, 0:no pone\n",
        "-\tmilk: 1: produece leche, 0:no\n",
        "-\tairborne: 1: vuela, 0:no\n",
        "-\taquatic: 1: es de agua, 0:no\n",
        "-\tpredator: 1: depradador, 0:no\n",
        "-\ttoothed: 1: tiene dientes, 0:no\n",
        "-\tbackbone: 1: tiene columna vertebral, 0:no\n",
        "-\tbreathes: 1: respira, 0:no\n",
        "-\tvenomous: 1: venenoso, 0:no\n",
        "-\tfins: 1: tiene aletas, 0:no\n",
        "-\tlegs: numero de patas\n",
        "-\ttail: 1: tiene cola, 0:no\n",
        "-\tdomestic: 1: animal doméstico, 0:no\n",
        "-\tclass_type: clasificación -> 1: Mamíferos, 2: Aves, 3: Reptiles, 4: Peces, 5: Anfibios, 6: Insectos e 7: Invertebrados"
      ],
      "metadata": {
        "id": "Fa0jC5hzB0yn"
      }
    },
    {
      "cell_type": "code",
      "source": [
        "import pandas as pd\n",
        "import matplotlib.pyplot as plt\n",
        "from sklearn.model_selection import train_test_split\n",
        "from sklearn.metrics import accuracy_score, confusion_matrix\n",
        "from sklearn.tree import DecisionTreeClassifier\n",
        "\n",
        "# 1. Leemos el archivo CSV\n",
        "datos=pd.read_csv(\"/content/zoo.csv\")\n",
        "#Muestra los datos\n",
        "datos.head()\n",
        "#Describe las características del datasheet\n",
        "datos.describe()\n",
        "#Eliminamos la columna del nombre del animal\n",
        "datos = datos.drop('animal_name', axis=1)\n",
        "print(datos)"
      ],
      "metadata": {
        "colab": {
          "base_uri": "https://localhost:8080/"
        },
        "id": "r3R3tD6OB1uQ",
        "outputId": "8b70a570-7b08-4a4a-8276-18a2ab034058"
      },
      "execution_count": 3,
      "outputs": [
        {
          "output_type": "stream",
          "name": "stdout",
          "text": [
            "     hair  feathers  eggs  milk  airborne  aquatic  predator  toothed  \\\n",
            "0       1         0     0     1         0        0         1        1   \n",
            "1       1         0     0     1         0        0         0        1   \n",
            "2       0         0     1     0         0        1         1        1   \n",
            "3       1         0     0     1         0        0         1        1   \n",
            "4       1         0     0     1         0        0         1        1   \n",
            "..    ...       ...   ...   ...       ...      ...       ...      ...   \n",
            "96      1         0     0     1         0        0         0        1   \n",
            "97      1         0     1     0         1        0         0        0   \n",
            "98      1         0     0     1         0        0         1        1   \n",
            "99      0         0     1     0         0        0         0        0   \n",
            "100     0         1     1     0         1        0         0        0   \n",
            "\n",
            "     backbone  breathes  venomous  fins  legs  tail  domestic  class_type  \n",
            "0           1         1         0     0     4     0         0           1  \n",
            "1           1         1         0     0     4     1         0           1  \n",
            "2           1         0         0     1     0     1         0           4  \n",
            "3           1         1         0     0     4     0         0           1  \n",
            "4           1         1         0     0     4     1         0           1  \n",
            "..        ...       ...       ...   ...   ...   ...       ...         ...  \n",
            "96          1         1         0     0     2     1         0           1  \n",
            "97          0         1         1     0     6     0         0           6  \n",
            "98          1         1         0     0     4     1         0           1  \n",
            "99          0         1         0     0     0     0         0           7  \n",
            "100         1         1         0     0     2     1         0           2  \n",
            "\n",
            "[101 rows x 16 columns]\n"
          ]
        }
      ]
    },
    {
      "cell_type": "code",
      "source": [
        "# 2. Separar datos de entrada X con características y Y con etiquetas\n",
        "x = datos.iloc[:,:-1] #Selecciona todas las columnas menos la última\n",
        "y = datos.iloc[:,-1]\n",
        "\n",
        "x_train, x_test, y_train, y_test = train_test_split(x, y, test_size = 0.3, random_state= 25)\n",
        "\n",
        "#Creamos el modelo\n",
        "modelo = DecisionTreeClassifier()\n",
        "\n",
        "#Entrenamiento del modelo\n",
        "modelo.fit(x_train,y_train)\n",
        "\n",
        "#Probar el modelo y obtener datos\n",
        "y_obtenido = modelo.predict(x_test)\n",
        "\n",
        "#Métricas de evaluación\n",
        "exactitud = accuracy_score(y_test, y_obtenido)\n",
        "print(f\"La excatitud obtenida es de: {exactitud}\")\n",
        "\n",
        "#Matriz de confusión\n",
        "matriz = confusion_matrix(y_test, y_obtenido)"
      ],
      "metadata": {
        "colab": {
          "base_uri": "https://localhost:8080/"
        },
        "id": "FdpSiLofCR00",
        "outputId": "c2dc4e03-31e4-4249-859f-12074e0040d1"
      },
      "execution_count": 4,
      "outputs": [
        {
          "output_type": "stream",
          "name": "stdout",
          "text": [
            "La excatitud obtenida es de: 0.9032258064516129\n"
          ]
        }
      ]
    },
    {
      "cell_type": "code",
      "source": [
        "# 3. Dibujamos la matriz de confusión por medio de mapa de calor\n",
        "import seaborn as sns\n",
        "\n",
        "sns.heatmap(matriz, annot=True, fmt='d', cmap=\"viridis\")\n",
        "plt.show()\n",
        "\n",
        "print(f\"La matriz de confusión obtenida equivale a: {matriz}\")"
      ],
      "metadata": {
        "colab": {
          "base_uri": "https://localhost:8080/",
          "height": 559
        },
        "id": "bI10jyoPCmEW",
        "outputId": "562d3625-5a8f-4cc2-b602-0a1260d882ec"
      },
      "execution_count": 5,
      "outputs": [
        {
          "output_type": "display_data",
          "data": {
            "text/plain": [
              "<Figure size 640x480 with 2 Axes>"
            ],
            "image/png": "[encoded data removed]"
          },
          "metadata": {}
        },
        {
          "output_type": "stream",
          "name": "stdout",
          "text": [
            "La matriz de confusión obtenida equivale a: [[13  0  0  0  0  0  0]\n",
            " [ 0  6  0  0  0  0  0]\n",
            " [ 0  0  1  0  0  0  0]\n",
            " [ 0  0  0  2  0  0  0]\n",
            " [ 0  0  0  0  1  0  0]\n",
            " [ 0  0  0  0  0  2  0]\n",
            " [ 0  0  0  0  0  3  3]]\n"
          ]
        }
      ]
    },
    {
      "cell_type": "markdown",
      "source": [
        "## Entrenamiento de nuevos modelos\n",
        "\n",
        "Con el modelo desarrollado, predecir el tipo de animal:\n",
        "-\tMariposa\n",
        "-\tCanario\n",
        "-\tMono\n",
        "-\tTiburón\n",
        "-\tLagarto\n",
        "-\tCien pies\n",
        "\n",
        "Seguir el lineamiento del siguiente orden:\n",
        "- hair: 1: tiene cabello, 0:no tiene\n",
        "- feathers: 1: tiene plumas, 0:no tiene\n",
        "- eggs: 1: pone huevos, 0:no pone\n",
        "- milk: 1: produece leche, 0:no\n",
        "- airborne: 1: vuela, 0:no\n",
        "- aquatic: 1: es de agua, 0:no\n",
        "- predator: 1: depradador, 0:no\n",
        "- toothed: 1: tiene dientes, 0:no\n",
        "- backbone: 1: tiene columna vertebral, 0:no\n",
        "- breathes: 1: respira, 0:no\n",
        "- venomous: 1: venenoso, 0:no\n",
        "- fins: 1: tiene aletas, 0:no\n",
        "- legs: numero de patas\n",
        "- tail: 1: tiene cola, 0:no\n",
        "- domestic: 1: animal doméstico, 0:no\n",
        "- class_type: clasificación -> 1: Mamíferos, 2: Aves, 3: Reptiles, 4: Peces, 5: Anfibios, 6: Insectos e 7: Invertebrados\n"
      ],
      "metadata": {
        "id": "2MmJyzrHC1lJ"
      }
    },
    {
      "cell_type": "code",
      "source": [
        "#Predicción - Mariposa\n",
        "animal = modelo.predict([[0,0,1,0,1,0,0,0,0,1,0,0,6,0,0]])\n",
        "print(f\"\\nEl tipo de animal determinado es: {animal}\")"
      ],
      "metadata": {
        "colab": {
          "base_uri": "https://localhost:8080/"
        },
        "id": "xKPA6XapDFcE",
        "outputId": "c5d0401a-cc70-47af-fec6-ffa3c5e7fafb"
      },
      "execution_count": 10,
      "outputs": [
        {
          "output_type": "stream",
          "name": "stdout",
          "text": [
            "\n",
            "El tipo de animal determinado es: [6]\n"
          ]
        },
        {
          "output_type": "stream",
          "name": "stderr",
          "text": [
            "/usr/local/lib/python3.10/dist-packages/sklearn/base.py:439: UserWarning: X does not have valid feature names, but DecisionTreeClassifier was fitted with feature names\n",
            "  warnings.warn(\n"
          ]
        }
      ]
    },
    {
      "cell_type": "code",
      "source": [
        "#Predicción - Canario\n",
        "animal = modelo.predict([[0,1,1,0,1,0,0,0,1,1,0,0,2,0,1]])\n",
        "print(f\"\\nEl tipo de animal determinado es: {animal}\")"
      ],
      "metadata": {
        "colab": {
          "base_uri": "https://localhost:8080/"
        },
        "outputId": "95d31c18-3b59-402b-d92a-d974c8eb7589",
        "id": "1gQWLm4iE02H"
      },
      "execution_count": 11,
      "outputs": [
        {
          "output_type": "stream",
          "name": "stdout",
          "text": [
            "\n",
            "El tipo de animal determinado es: [2]\n"
          ]
        },
        {
          "output_type": "stream",
          "name": "stderr",
          "text": [
            "/usr/local/lib/python3.10/dist-packages/sklearn/base.py:439: UserWarning: X does not have valid feature names, but DecisionTreeClassifier was fitted with feature names\n",
            "  warnings.warn(\n"
          ]
        }
      ]
    },
    {
      "cell_type": "code",
      "source": [
        "#Predicción - Mono\n",
        "animal = modelo.predict([[1,0,0,1,0,0,0,1,1,0,0,0,4,1,0]])\n",
        "print(f\"\\nEl tipo de animal determinado es: {animal}\")"
      ],
      "metadata": {
        "colab": {
          "base_uri": "https://localhost:8080/"
        },
        "id": "pnUk-LktFE6Q",
        "outputId": "832536ad-6f6d-4ec8-8de4-793d9d6a67b2"
      },
      "execution_count": 12,
      "outputs": [
        {
          "output_type": "stream",
          "name": "stdout",
          "text": [
            "\n",
            "El tipo de animal determinado es: [1]\n"
          ]
        },
        {
          "output_type": "stream",
          "name": "stderr",
          "text": [
            "/usr/local/lib/python3.10/dist-packages/sklearn/base.py:439: UserWarning: X does not have valid feature names, but DecisionTreeClassifier was fitted with feature names\n",
            "  warnings.warn(\n"
          ]
        }
      ]
    },
    {
      "cell_type": "code",
      "source": [
        "#Predicción - Tiburón\n",
        "animal = modelo.predict([[0,0,1,0,0,1,1,1,1,1,0,1,0,1,0]])\n",
        "print(f\"\\nEl tipo de animal determinado es: {animal}\")"
      ],
      "metadata": {
        "colab": {
          "base_uri": "https://localhost:8080/"
        },
        "id": "9a91HFycFcOi",
        "outputId": "a717f001-1c67-4fb3-d323-41e39565cb3c"
      },
      "execution_count": 13,
      "outputs": [
        {
          "output_type": "stream",
          "name": "stdout",
          "text": [
            "\n",
            "El tipo de animal determinado es: [4]\n"
          ]
        },
        {
          "output_type": "stream",
          "name": "stderr",
          "text": [
            "/usr/local/lib/python3.10/dist-packages/sklearn/base.py:439: UserWarning: X does not have valid feature names, but DecisionTreeClassifier was fitted with feature names\n",
            "  warnings.warn(\n"
          ]
        }
      ]
    },
    {
      "cell_type": "code",
      "source": [
        "#Predicción - Lagarto\n",
        "animal = modelo.predict([[0,0,1,0,0,1,1,1,1,1,0,0,4,1,0]])\n",
        "print(f\"\\nEl tipo de animal determinado es: {animal}\")"
      ],
      "metadata": {
        "colab": {
          "base_uri": "https://localhost:8080/"
        },
        "id": "zSrhEqhGFeko",
        "outputId": "4aba6b46-1c7a-4c45-cc5e-fd95c009e81b"
      },
      "execution_count": 15,
      "outputs": [
        {
          "output_type": "stream",
          "name": "stdout",
          "text": [
            "\n",
            "El tipo de animal determinado es: [5]\n"
          ]
        },
        {
          "output_type": "stream",
          "name": "stderr",
          "text": [
            "/usr/local/lib/python3.10/dist-packages/sklearn/base.py:439: UserWarning: X does not have valid feature names, but DecisionTreeClassifier was fitted with feature names\n",
            "  warnings.warn(\n"
          ]
        }
      ]
    },
    {
      "cell_type": "code",
      "source": [
        "#Predicción - Cien Pies\n",
        "animal = modelo.predict([[0,0,1,0,0,0,1,0,0,1,1,0,100,0,0]])\n",
        "print(f\"\\nEl tipo de animal determinado es: {animal}\")"
      ],
      "metadata": {
        "colab": {
          "base_uri": "https://localhost:8080/"
        },
        "id": "iL1q2_aiFf_0",
        "outputId": "c00320d6-0174-40a2-e536-3c0d36094eee"
      },
      "execution_count": 17,
      "outputs": [
        {
          "output_type": "stream",
          "name": "stdout",
          "text": [
            "\n",
            "El tipo de animal determinado es: [6]\n"
          ]
        },
        {
          "output_type": "stream",
          "name": "stderr",
          "text": [
            "/usr/local/lib/python3.10/dist-packages/sklearn/base.py:439: UserWarning: X does not have valid feature names, but DecisionTreeClassifier was fitted with feature names\n",
            "  warnings.warn(\n"
          ]
        }
      ]
    },
    {
      "cell_type": "markdown",
      "source": [
        "## Características del conjunto de datos"
      ],
      "metadata": {
        "id": "Pzf-h6BJHul2"
      }
    },
    {
      "cell_type": "code",
      "source": [
        "##Caracteristicas e importancias del conjunto de datos\n",
        "importancia = modelo.feature_importances_\n",
        "\n",
        "#Obtener los nombres de las características\n",
        "nombres = datos.columns.tolist()\n",
        "\n",
        "for nombre_carc, impt in zip(importancia, nombres):\n",
        "  print(f'{nombre_carc}, {impt}')"
      ],
      "metadata": {
        "colab": {
          "base_uri": "https://localhost:8080/"
        },
        "id": "fXNxegK6H_Pe",
        "outputId": "7d698612-39b4-43a4-fde2-b6bb5c09d3c9"
      },
      "execution_count": 18,
      "outputs": [
        {
          "output_type": "stream",
          "name": "stdout",
          "text": [
            "0.0, hair\n",
            "0.21986387246999808, feathers\n",
            "0.028210639441160666, eggs\n",
            "0.386530539136665, milk\n",
            "0.0, airborne\n",
            "0.03627082213863514, aquatic\n",
            "0.0, predator\n",
            "0.0, toothed\n",
            "0.07978000442519836, backbone\n",
            "0.09027404621171414, breathes\n",
            "0.0, venomous\n",
            "0.15907007617662866, fins\n",
            "0.0, legs\n",
            "0.0, tail\n",
            "0.0, domestic\n"
          ]
        }
      ]
    }
  ]
}