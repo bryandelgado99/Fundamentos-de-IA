{
  "nbformat": 4,
  "nbformat_minor": 0,
  "metadata": {
    "colab": {
      "provenance": [],
      "authorship_tag": "ABX9TyPNKCO3Ps5ET53tSOfYUzbn",
      "include_colab_link": true
    },
    "kernelspec": {
      "name": "python3",
      "display_name": "Python 3"
    },
    "language_info": {
      "name": "python"
    }
  },
  "cells": [
    {
      "cell_type": "markdown",
      "metadata": {
        "id": "view-in-github",
        "colab_type": "text"
      },
      "source": [
        "<a href=\"https://colab.research.google.com/github/bryandelgado99/Fundamentos-de-IA/blob/main/Examen_1__Delgado_Bryan__Revelo_Ingrid.ipynb\" target=\"_parent\"><img src=\"https://colab.research.google.com/assets/colab-badge.svg\" alt=\"Open In Colab\"/></a>"
      ]
    },
    {
      "cell_type": "markdown",
      "source": [
        "## Exámen Bimmestral 1 - Redes Neuronales\n",
        "\n",
        "Nombres: Delgado Bryan, Revelo Ingrith\n",
        "Fecha: 08/01/2024"
      ],
      "metadata": {
        "id": "EdnUDepzOaLO"
      }
    },
    {
      "cell_type": "markdown",
      "source": [
        "El propósito de esta evaluación es crear una red neuronal para que a través de un peso (kg) y tiempo (minutos) dado determine las kilocalorías que se va a quemar con la actividad física de correr (9.6 km/h).\n",
        "\n",
        "Partimos de la fórmula: KCAL = (MET (ver valores de la tabla) x 0,0175 x peso (kg))*tiempo"
      ],
      "metadata": {
        "id": "gR-e6nY1Onyv"
      }
    },
    {
      "cell_type": "code",
      "source": [
        "# Importamos las librerías\n",
        "from sklearn.model_selection import train_test_split\n",
        "import tensorflow as tf\n",
        "from tensorflow import keras\n",
        "import pandas as pd\n",
        "import matplotlib.pyplot as plt\n",
        "import numpy as np"
      ],
      "metadata": {
        "id": "KTWInvhSQ-OC"
      },
      "execution_count": 1,
      "outputs": []
    },
    {
      "cell_type": "code",
      "source": [
        "# 1. Importamos el archivo\n",
        "datos=pd.read_excel(\"/content/kilocalorias.xlsx\")\n",
        "#Muestra los datos\n",
        "datos.head()\n",
        "#Describe las características del datasheet\n",
        "datos.describe()"
      ],
      "metadata": {
        "colab": {
          "base_uri": "https://localhost:8080/",
          "height": 300
        },
        "id": "-rPEhbzYOq5V",
        "outputId": "28e4a828-0d59-4977-c50c-9058b9c44b7c"
      },
      "execution_count": 2,
      "outputs": [
        {
          "output_type": "execute_result",
          "data": {
            "text/plain": [
              "             Peso      Tiempo  Kilocalorias\n",
              "count  100.000000  100.000000    100.000000\n",
              "mean    74.980000   30.820000    405.196750\n",
              "std     14.573381   16.089635    229.147575\n",
              "min     50.000000    5.000000     52.500000\n",
              "25%     62.500000   17.000000    221.112500\n",
              "50%     75.500000   29.000000    395.850000\n",
              "75%     88.250000   46.000000    576.187500\n",
              "max    100.000000   60.000000    927.675000"
            ],
            "text/html": [
              "\n",
              "  <div id=\"df-9e76496b-bea7-4e85-b430-6c9695fc75a1\" class=\"colab-df-container\">\n",
              "    <div>\n",
              "<style scoped>\n",
              "    .dataframe tbody tr th:only-of-type {\n",
              "        vertical-align: middle;\n",
              "    }\n",
              "\n",
              "    .dataframe tbody tr th {\n",
              "        vertical-align: top;\n",
              "    }\n",
              "\n",
              "    .dataframe thead th {\n",
              "        text-align: right;\n",
              "    }\n",
              "</style>\n",
              "<table border=\"1\" class=\"dataframe\">\n",
              "  <thead>\n",
              "    <tr style=\"text-align: right;\">\n",
              "      <th></th>\n",
              "      <th>Peso</th>\n",
              "      <th>Tiempo</th>\n",
              "      <th>Kilocalorias</th>\n",
              "    </tr>\n",
              "  </thead>\n",
              "  <tbody>\n",
              "    <tr>\n",
              "      <th>count</th>\n",
              "      <td>100.000000</td>\n",
              "      <td>100.000000</td>\n",
              "      <td>100.000000</td>\n",
              "    </tr>\n",
              "    <tr>\n",
              "      <th>mean</th>\n",
              "      <td>74.980000</td>\n",
              "      <td>30.820000</td>\n",
              "      <td>405.196750</td>\n",
              "    </tr>\n",
              "    <tr>\n",
              "      <th>std</th>\n",
              "      <td>14.573381</td>\n",
              "      <td>16.089635</td>\n",
              "      <td>229.147575</td>\n",
              "    </tr>\n",
              "    <tr>\n",
              "      <th>min</th>\n",
              "      <td>50.000000</td>\n",
              "      <td>5.000000</td>\n",
              "      <td>52.500000</td>\n",
              "    </tr>\n",
              "    <tr>\n",
              "      <th>25%</th>\n",
              "      <td>62.500000</td>\n",
              "      <td>17.000000</td>\n",
              "      <td>221.112500</td>\n",
              "    </tr>\n",
              "    <tr>\n",
              "      <th>50%</th>\n",
              "      <td>75.500000</td>\n",
              "      <td>29.000000</td>\n",
              "      <td>395.850000</td>\n",
              "    </tr>\n",
              "    <tr>\n",
              "      <th>75%</th>\n",
              "      <td>88.250000</td>\n",
              "      <td>46.000000</td>\n",
              "      <td>576.187500</td>\n",
              "    </tr>\n",
              "    <tr>\n",
              "      <th>max</th>\n",
              "      <td>100.000000</td>\n",
              "      <td>60.000000</td>\n",
              "      <td>927.675000</td>\n",
              "    </tr>\n",
              "  </tbody>\n",
              "</table>\n",
              "</div>\n",
              "    <div class=\"colab-df-buttons\">\n",
              "\n",
              "  <div class=\"colab-df-container\">\n",
              "    <button class=\"colab-df-convert\" onclick=\"convertToInteractive('df-9e76496b-bea7-4e85-b430-6c9695fc75a1')\"\n",
              "            title=\"Convert this dataframe to an interactive table.\"\n",
              "            style=\"display:none;\">\n",
              "\n",
              "  <svg xmlns=\"http://www.w3.org/2000/svg\" height=\"24px\" viewBox=\"0 -960 960 960\">\n",
              "    <path d=\"M120-120v-720h720v720H120Zm60-500h600v-160H180v160Zm220 220h160v-160H400v160Zm0 220h160v-160H400v160ZM180-400h160v-160H180v160Zm440 0h160v-160H620v160ZM180-180h160v-160H180v160Zm440 0h160v-160H620v160Z\"/>\n",
              "  </svg>\n",
              "    </button>\n",
              "\n",
              "  <style>\n",
              "    .colab-df-container {\n",
              "      display:flex;\n",
              "      gap: 12px;\n",
              "    }\n",
              "\n",
              "    .colab-df-convert {\n",
              "      background-color: #E8F0FE;\n",
              "      border: none;\n",
              "      border-radius: 50%;\n",
              "      cursor: pointer;\n",
              "      display: none;\n",
              "      fill: #1967D2;\n",
              "      height: 32px;\n",
              "      padding: 0 0 0 0;\n",
              "      width: 32px;\n",
              "    }\n",
              "\n",
              "    .colab-df-convert:hover {\n",
              "      background-color: #E2EBFA;\n",
              "      box-shadow: 0px 1px 2px rgba(60, 64, 67, 0.3), 0px 1px 3px 1px rgba(60, 64, 67, 0.15);\n",
              "      fill: #174EA6;\n",
              "    }\n",
              "\n",
              "    .colab-df-buttons div {\n",
              "      margin-bottom: 4px;\n",
              "    }\n",
              "\n",
              "    [theme=dark] .colab-df-convert {\n",
              "      background-color: #3B4455;\n",
              "      fill: #D2E3FC;\n",
              "    }\n",
              "\n",
              "    [theme=dark] .colab-df-convert:hover {\n",
              "      background-color: #434B5C;\n",
              "      box-shadow: 0px 1px 3px 1px rgba(0, 0, 0, 0.15);\n",
              "      filter: drop-shadow(0px 1px 2px rgba(0, 0, 0, 0.3));\n",
              "      fill: #FFFFFF;\n",
              "    }\n",
              "  </style>\n",
              "\n",
              "    <script>\n",
              "      const buttonEl =\n",
              "        document.querySelector('#df-9e76496b-bea7-4e85-b430-6c9695fc75a1 button.colab-df-convert');\n",
              "      buttonEl.style.display =\n",
              "        google.colab.kernel.accessAllowed ? 'block' : 'none';\n",
              "\n",
              "      async function convertToInteractive(key) {\n",
              "        const element = document.querySelector('#df-9e76496b-bea7-4e85-b430-6c9695fc75a1');\n",
              "        const dataTable =\n",
              "          await google.colab.kernel.invokeFunction('convertToInteractive',\n",
              "                                                    [key], {});\n",
              "        if (!dataTable) return;\n",
              "\n",
              "        const docLinkHtml = 'Like what you see? Visit the ' +\n",
              "          '<a target=\"_blank\" href=https://colab.research.google.com/notebooks/data_table.ipynb>data table notebook</a>'\n",
              "          + ' to learn more about interactive tables.';\n",
              "        element.innerHTML = '';\n",
              "        dataTable['output_type'] = 'display_data';\n",
              "        await google.colab.output.renderOutput(dataTable, element);\n",
              "        const docLink = document.createElement('div');\n",
              "        docLink.innerHTML = docLinkHtml;\n",
              "        element.appendChild(docLink);\n",
              "      }\n",
              "    </script>\n",
              "  </div>\n",
              "\n",
              "\n",
              "<div id=\"df-bac99e2e-8b61-4d13-8b09-7d753dd92967\">\n",
              "  <button class=\"colab-df-quickchart\" onclick=\"quickchart('df-bac99e2e-8b61-4d13-8b09-7d753dd92967')\"\n",
              "            title=\"Suggest charts\"\n",
              "            style=\"display:none;\">\n",
              "\n",
              "<svg xmlns=\"http://www.w3.org/2000/svg\" height=\"24px\"viewBox=\"0 0 24 24\"\n",
              "     width=\"24px\">\n",
              "    <g>\n",
              "        <path d=\"M19 3H5c-1.1 0-2 .9-2 2v14c0 1.1.9 2 2 2h14c1.1 0 2-.9 2-2V5c0-1.1-.9-2-2-2zM9 17H7v-7h2v7zm4 0h-2V7h2v10zm4 0h-2v-4h2v4z\"/>\n",
              "    </g>\n",
              "</svg>\n",
              "  </button>\n",
              "\n",
              "<style>\n",
              "  .colab-df-quickchart {\n",
              "      --bg-color: #E8F0FE;\n",
              "      --fill-color: #1967D2;\n",
              "      --hover-bg-color: #E2EBFA;\n",
              "      --hover-fill-color: #174EA6;\n",
              "      --disabled-fill-color: #AAA;\n",
              "      --disabled-bg-color: #DDD;\n",
              "  }\n",
              "\n",
              "  [theme=dark] .colab-df-quickchart {\n",
              "      --bg-color: #3B4455;\n",
              "      --fill-color: #D2E3FC;\n",
              "      --hover-bg-color: #434B5C;\n",
              "      --hover-fill-color: #FFFFFF;\n",
              "      --disabled-bg-color: #3B4455;\n",
              "      --disabled-fill-color: #666;\n",
              "  }\n",
              "\n",
              "  .colab-df-quickchart {\n",
              "    background-color: var(--bg-color);\n",
              "    border: none;\n",
              "    border-radius: 50%;\n",
              "    cursor: pointer;\n",
              "    display: none;\n",
              "    fill: var(--fill-color);\n",
              "    height: 32px;\n",
              "    padding: 0;\n",
              "    width: 32px;\n",
              "  }\n",
              "\n",
              "  .colab-df-quickchart:hover {\n",
              "    background-color: var(--hover-bg-color);\n",
              "    box-shadow: 0 1px 2px rgba(60, 64, 67, 0.3), 0 1px 3px 1px rgba(60, 64, 67, 0.15);\n",
              "    fill: var(--button-hover-fill-color);\n",
              "  }\n",
              "\n",
              "  .colab-df-quickchart-complete:disabled,\n",
              "  .colab-df-quickchart-complete:disabled:hover {\n",
              "    background-color: var(--disabled-bg-color);\n",
              "    fill: var(--disabled-fill-color);\n",
              "    box-shadow: none;\n",
              "  }\n",
              "\n",
              "  .colab-df-spinner {\n",
              "    border: 2px solid var(--fill-color);\n",
              "    border-color: transparent;\n",
              "    border-bottom-color: var(--fill-color);\n",
              "    animation:\n",
              "      spin 1s steps(1) infinite;\n",
              "  }\n",
              "\n",
              "  @keyframes spin {\n",
              "    0% {\n",
              "      border-color: transparent;\n",
              "      border-bottom-color: var(--fill-color);\n",
              "      border-left-color: var(--fill-color);\n",
              "    }\n",
              "    20% {\n",
              "      border-color: transparent;\n",
              "      border-left-color: var(--fill-color);\n",
              "      border-top-color: var(--fill-color);\n",
              "    }\n",
              "    30% {\n",
              "      border-color: transparent;\n",
              "      border-left-color: var(--fill-color);\n",
              "      border-top-color: var(--fill-color);\n",
              "      border-right-color: var(--fill-color);\n",
              "    }\n",
              "    40% {\n",
              "      border-color: transparent;\n",
              "      border-right-color: var(--fill-color);\n",
              "      border-top-color: var(--fill-color);\n",
              "    }\n",
              "    60% {\n",
              "      border-color: transparent;\n",
              "      border-right-color: var(--fill-color);\n",
              "    }\n",
              "    80% {\n",
              "      border-color: transparent;\n",
              "      border-right-color: var(--fill-color);\n",
              "      border-bottom-color: var(--fill-color);\n",
              "    }\n",
              "    90% {\n",
              "      border-color: transparent;\n",
              "      border-bottom-color: var(--fill-color);\n",
              "    }\n",
              "  }\n",
              "</style>\n",
              "\n",
              "  <script>\n",
              "    async function quickchart(key) {\n",
              "      const quickchartButtonEl =\n",
              "        document.querySelector('#' + key + ' button');\n",
              "      quickchartButtonEl.disabled = true;  // To prevent multiple clicks.\n",
              "      quickchartButtonEl.classList.add('colab-df-spinner');\n",
              "      try {\n",
              "        const charts = await google.colab.kernel.invokeFunction(\n",
              "            'suggestCharts', [key], {});\n",
              "      } catch (error) {\n",
              "        console.error('Error during call to suggestCharts:', error);\n",
              "      }\n",
              "      quickchartButtonEl.classList.remove('colab-df-spinner');\n",
              "      quickchartButtonEl.classList.add('colab-df-quickchart-complete');\n",
              "    }\n",
              "    (() => {\n",
              "      let quickchartButtonEl =\n",
              "        document.querySelector('#df-bac99e2e-8b61-4d13-8b09-7d753dd92967 button');\n",
              "      quickchartButtonEl.style.display =\n",
              "        google.colab.kernel.accessAllowed ? 'block' : 'none';\n",
              "    })();\n",
              "  </script>\n",
              "</div>\n",
              "\n",
              "    </div>\n",
              "  </div>\n"
            ]
          },
          "metadata": {},
          "execution_count": 2
        }
      ]
    },
    {
      "cell_type": "code",
      "source": [
        "# 2. Separamos los datos por características\n",
        "x = datos[['Peso', 'Tiempo']]\n",
        "y = datos['Kilocalorias']"
      ],
      "metadata": {
        "id": "rU_wW4GPRryP"
      },
      "execution_count": 3,
      "outputs": []
    },
    {
      "cell_type": "code",
      "source": [
        "# 3. Dividimos datos en entrenamiento y prueba\n",
        "x_train, x_test, y_train, y_test = train_test_split(x, y, test_size=0.25, random_state=25)"
      ],
      "metadata": {
        "id": "cPFYjFgQR_UE"
      },
      "execution_count": 4,
      "outputs": []
    },
    {
      "cell_type": "code",
      "source": [
        "# 4. Creamos las capas del modelo, mediante las unidades de cómputo y los elementos\n",
        "# La capa de entrada toma los valores de X y los analiza, tomando comportamientos comunes\n",
        "capa_entrada = tf.keras.layers.Dense(units=2, input_shape=[2]) #Las input_shapes corresponden a los elementos de X obtenidos en el paso 3\n",
        "# La capa de salida presenta la predicción analítica final de las capas anteriores\n",
        "capa_salida = tf.keras.layers.Dense(units=1)\n",
        "# Las capa ocultas procesan la información las une en partes comunes, para facilitar el tratamiento del modelo\n",
        "capa_oculta_A = tf.keras.layers.Dense(units=2)\n",
        "capa_oculta_B = tf.keras.layers.Dense(units=2)\n",
        "# Definición del modelo\n",
        "modelo = tf.keras.Sequential([capa_entrada, capa_oculta_A, capa_oculta_B, capa_salida])"
      ],
      "metadata": {
        "id": "Be0uXlZ4Shud"
      },
      "execution_count": 5,
      "outputs": []
    },
    {
      "cell_type": "code",
      "source": [
        "# 5. Definimos el modelo con Tensorflow - Keras y lo compilamos mediante 'adams'\n",
        "modelo.compile(optimizer='adam', loss='mean_squared_error')"
      ],
      "metadata": {
        "id": "DL5BbQdNS9zx"
      },
      "execution_count": 6,
      "outputs": []
    },
    {
      "cell_type": "code",
      "source": [
        "# 5. Entrenamos el modelo con una base de epochs de 100 y batch de 3\n",
        "historial = modelo.fit(x_train, y_train, epochs=10, batch_size=10)\n",
        "print(historial)"
      ],
      "metadata": {
        "colab": {
          "base_uri": "https://localhost:8080/"
        },
        "id": "QrPo-DtSTKYN",
        "outputId": "ce007d87-453c-4e53-951f-315a2775e52c"
      },
      "execution_count": 71,
      "outputs": [
        {
          "output_type": "stream",
          "name": "stdout",
          "text": [
            "Epoch 1/10\n",
            "8/8 [==============================] - 0s 10ms/step - loss: 4862.5552\n",
            "Epoch 2/10\n",
            "8/8 [==============================] - 0s 10ms/step - loss: 4859.9966\n",
            "Epoch 3/10\n",
            "8/8 [==============================] - 0s 9ms/step - loss: 4870.4839\n",
            "Epoch 4/10\n",
            "8/8 [==============================] - 0s 6ms/step - loss: 4886.5156\n",
            "Epoch 5/10\n",
            "8/8 [==============================] - 0s 7ms/step - loss: 4868.8511\n",
            "Epoch 6/10\n",
            "8/8 [==============================] - 0s 7ms/step - loss: 4873.5845\n",
            "Epoch 7/10\n",
            "8/8 [==============================] - 0s 4ms/step - loss: 4876.7388\n",
            "Epoch 8/10\n",
            "8/8 [==============================] - 0s 4ms/step - loss: 4872.1919\n",
            "Epoch 9/10\n",
            "8/8 [==============================] - 0s 4ms/step - loss: 4871.3945\n",
            "Epoch 10/10\n",
            "8/8 [==============================] - 0s 3ms/step - loss: 4871.3945\n",
            "<keras.src.callbacks.History object at 0x7f6605d7cc40>\n"
          ]
        }
      ]
    },
    {
      "cell_type": "code",
      "source": [
        "# 8. Evaluamos el modelo y definimos la pérdida de datos\n",
        "prueba =  modelo.evaluate(x_test, y_test)\n",
        "print(f\"El modelo predicho es de {prueba}\")"
      ],
      "metadata": {
        "colab": {
          "base_uri": "https://localhost:8080/"
        },
        "id": "s7Cxi9MNVpXa",
        "outputId": "ebdf5a3a-1db3-40ad-e147-e15227cf7d02"
      },
      "execution_count": 78,
      "outputs": [
        {
          "output_type": "stream",
          "name": "stdout",
          "text": [
            "1/1 [==============================] - 0s 27ms/step - loss: 6039.3525\n",
            "El modelo predicho es de 6039.3525390625\n"
          ]
        }
      ]
    },
    {
      "cell_type": "code",
      "source": [
        "# 5.5 Gráfica para función de pérdida\n",
        "plt.plot(historial.history[\"loss\"])\n",
        "x = plt.xlabel(\"Pérdida\")"
      ],
      "metadata": {
        "colab": {
          "base_uri": "https://localhost:8080/",
          "height": 449
        },
        "id": "eixi4azoT1b6",
        "outputId": "afa49040-dfdf-4144-9ac9-1d741645098d"
      },
      "execution_count": 74,
      "outputs": [
        {
          "output_type": "display_data",
          "data": {
            "text/plain": [
              "<Figure size 640x480 with 1 Axes>"
            ],
            "image/png": "[encoded data removed]"
          },
          "metadata": {}
        }
      ]
    },
    {
      "cell_type": "markdown",
      "source": [
        "# Custionario de ejercicios de test del modelo"
      ],
      "metadata": {
        "id": "N3tRaQgsUNC5"
      }
    },
    {
      "cell_type": "code",
      "source": [
        "## 75kg y 30 minutos\n",
        "data_x = np.array([[75, 30]])\n",
        "\n",
        "prediccion = modelo.predict([data_x])\n",
        "print(f\"Para una persona que pesa 75 kg y corre a 9.6km/h en un tiempo de 30 minutos, quema aproxidamante {prediccion} kcal.\")"
      ],
      "metadata": {
        "colab": {
          "base_uri": "https://localhost:8080/"
        },
        "id": "USszD5LTUMP7",
        "outputId": "f7a3574f-b933-4170-a794-18f29dc8e5a3"
      },
      "execution_count": 79,
      "outputs": [
        {
          "output_type": "stream",
          "name": "stdout",
          "text": [
            "1/1 [==============================] - 0s 22ms/step\n",
            "Para una persona que pesa 75 kg y corre a 9.6km/h en un tiempo de 30 minutos, quema aproxidamante [[411.05338]] kcal.\n"
          ]
        }
      ]
    },
    {
      "cell_type": "code",
      "source": [
        "## 50kg y 45 minutos\n",
        "data_x = np.array([[50, 45]])\n",
        "\n",
        "prediccion = modelo.predict([data_x])\n",
        "print(f\"Para una persona que pesa 50 kg y corre a 9.6km/h en un tiempo de 45 minutos, quema aproxidamante {prediccion} kcal.\")"
      ],
      "metadata": {
        "colab": {
          "base_uri": "https://localhost:8080/"
        },
        "outputId": "7455b421-712c-49dd-8a0f-e517e18819a3",
        "id": "csxTChSoVJCR"
      },
      "execution_count": 76,
      "outputs": [
        {
          "output_type": "stream",
          "name": "stdout",
          "text": [
            "1/1 [==============================] - 0s 34ms/step\n",
            "Para una persona que pesa 50 kg y corre a 9.6km/h en un tiempo de 45 minutos, quema aproxidamante [[539.57385]] kcal.\n"
          ]
        }
      ]
    },
    {
      "cell_type": "code",
      "source": [
        "## 90kg y 60 minutos\n",
        "data_x = np.array([[90, 60]])\n",
        "\n",
        "prediccion = modelo.predict([data_x])\n",
        "print(f\"Para una persona que pesa 90 kg y corre a 9.6km/h en un tiempo de 60 minutos, quema aproxidamante {prediccion} kcal.\")"
      ],
      "metadata": {
        "colab": {
          "base_uri": "https://localhost:8080/"
        },
        "outputId": "c1ab37f0-f7b6-4321-ea44-7b049add455a",
        "id": "YF1hAjglVJaD"
      },
      "execution_count": 77,
      "outputs": [
        {
          "output_type": "stream",
          "name": "stdout",
          "text": [
            "1/1 [==============================] - 0s 28ms/step\n",
            "Para una persona que pesa 90 kg y corre a 9.6km/h en un tiempo de 60 minutos, quema aproxidamante [[792.58777]] kcal.\n"
          ]
        }
      ]
    }
  ]
}