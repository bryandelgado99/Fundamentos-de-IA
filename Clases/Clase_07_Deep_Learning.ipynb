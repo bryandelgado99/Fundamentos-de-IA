{
 "cells": [
  {
   "cell_type": "code",
   "execution_count": 4,
   "metadata": {},
   "outputs": [
    {
     "name": "stdout",
     "output_type": "stream",
     "text": [
      "Epoch 1/5\n",
      "469/469 [==============================] - 10s 20ms/step - loss: 0.2344 - accuracy: 0.9347\n",
      "Epoch 2/5\n",
      "469/469 [==============================] - 10s 21ms/step - loss: 0.0754 - accuracy: 0.9781\n",
      "Epoch 3/5\n",
      "469/469 [==============================] - 10s 20ms/step - loss: 0.0534 - accuracy: 0.9842\n",
      "Epoch 4/5\n",
      "469/469 [==============================] - 10s 22ms/step - loss: 0.0415 - accuracy: 0.9877\n",
      "Epoch 5/5\n",
      "469/469 [==============================] - 10s 21ms/step - loss: 0.0324 - accuracy: 0.9902\n",
      "313/313 [==============================] - 2s 4ms/step - loss: 0.0502 - accuracy: 0.9833\n",
      "La función de perdida es:  0.05018847435712814\n",
      "La precision es:  0.983299970626831\n",
      "1/1 [==============================] - 0s 206ms/step\n",
      "La imagen se clasifica como: 9\n"
     ]
    },
    {
     "data": {
      "image/png": "[encoded data removed]",
      "text/plain": [
       "<Figure size 640x480 with 1 Axes>"
      ]
     },
     "metadata": {},
     "output_type": "display_data"
    }
   ],
   "source": [
    "import tensorflow as tf\n",
    "from tensorflow import keras\n",
    "import matplotlib.pyplot as plt\n",
    "\n",
    "#Cargar datos de entranamiento y pruebas (imagenes de números)\n",
    "(x_train, y_train), (x_test, y_test) = keras.datasets.mnist.load_data()\n",
    "\n",
    "#ver imagen\n",
    "plt.imshow(x_train[1000])\n",
    "\n",
    "#concer tamaño y numero de imagenes\n",
    "x_train.shape\n",
    "\n",
    "#Preparar datos\n",
    "#Estandarizar los valores entre 0 y 1 de pixeles (0 255)\n",
    "x_train=x_train.astype(\"float32\")/255\n",
    "x_test=x_test.astype(\"float32\")/255\n",
    "\n",
    "#Cambiar forma de los datos (-1: establece la dimension, tamño pixeles, b/n(1) o color(3))\n",
    "x_train=x_train.reshape(-1,28,28,1)\n",
    "x_test=x_test.reshape(-1,28,28,1)\n",
    "\n",
    "#Crear Arquitectura de la red neuronal convolucional\n",
    "from tensorflow.keras.layers import Conv2D, MaxPooling2D, Flatten, Dense\n",
    "#capa convolucion(#filtros, kernel,fun actvación, forma entrada)\n",
    "capa_convolucion=Conv2D(32,kernel_size=(3,3),activation=\"relu\",input_shape=(28,28,1))\n",
    "#Capa de agrupamiento, cada región de 2x2 píxeles en la entrada se reduce a un solo píxe\n",
    "capa_agrupamiento=MaxPooling2D(pool_size=(2,2))\n",
    "#Cpa de aplanamiento\n",
    "capa_aplanamiento=Flatten()\n",
    "#Caps Densas ocultas (numero de nuronas)\n",
    "capa_oculta= Dense(units=64,activation=\"relu\")\n",
    "#capa salida\n",
    "capa_salida=Dense(units=10,activation=\"softmax\")\n",
    "\n",
    "modelo=keras.Sequential([capa_convolucion,capa_agrupamiento,capa_aplanamiento, capa_oculta, capa_salida])\n",
    "\n",
    "#Compilar el modelo\n",
    "modelo.compile(optimizer='adam', loss='categorical_crossentropy',metrics=[\"accuracy\"])\n",
    "\n",
    "#pasar a categoricas (10 salidas)\n",
    "y_train = keras.utils.to_categorical(y_train, num_classes=10)\n",
    "y_test = keras.utils.to_categorical(y_test, num_classes=10)\n",
    "\n",
    "#Entrenar el modelo\n",
    "modelo.fit(x_train,y_train,batch_size=128, epochs=5)\n",
    "\n",
    "#Evaluar modelo con los datos de prueba\n",
    "func_perdida=modelo.evaluate(x_test,y_test)\n",
    "print(\"La función de perdida es: \",func_perdida[0])\n",
    "print(\"La precision es: \",func_perdida[1])\n",
    "\n",
    "#leer imagen\n",
    "imagen=x_test[105]\n",
    "plt.imshow(imagen)\n",
    "\n",
    "import numpy as np\n",
    "#Agregar una dimensión adicional para representar el canal de color(escala de grises) se grega al final\n",
    "imagen=np.expand_dims(imagen, axis=-1)\n",
    "\n",
    "#Agregar una dimensión adicional para representar el lote de imagenes\n",
    "imagen=np.expand_dims(imagen, axis=0)\n",
    "\n",
    "#Realizar prediccion\n",
    "prediccion= modelo.predict(imagen)\n",
    "prediccion_categoria= np.argmax(prediccion[0])\n",
    "\n",
    "#Imprimir prediccion\n",
    "print('La imagen se clasifica como:',prediccion_categoria)"
   ]
  }
 ],
 "metadata": {
  "kernelspec": {
   "display_name": "Python 3",
   "language": "python",
   "name": "python3"
  },
  "language_info": {
   "codemirror_mode": {
    "name": "ipython",
    "version": 3
   },
   "file_extension": ".py",
   "mimetype": "text/x-python",
   "name": "python",
   "nbconvert_exporter": "python",
   "pygments_lexer": "ipython3",
   "version": "3.11.7"
  }
 },
 "nbformat": 4,
 "nbformat_minor": 2
}
