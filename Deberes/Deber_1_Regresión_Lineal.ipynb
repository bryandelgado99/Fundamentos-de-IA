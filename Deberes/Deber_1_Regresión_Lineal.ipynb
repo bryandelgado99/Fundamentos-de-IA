{
  "nbformat": 4,
  "nbformat_minor": 0,
  "metadata": {
    "colab": {
      "provenance": [],
      "authorship_tag": "ABX9TyOhjVBWWQEEk8UsgFnU7953",
      "include_colab_link": true
    },
    "kernelspec": {
      "name": "python3",
      "display_name": "Python 3"
    },
    "language_info": {
      "name": "python"
    }
  },
  "cells": [
    {
      "cell_type": "markdown",
      "metadata": {
        "id": "view-in-github",
        "colab_type": "text"
      },
      "source": [
        "<a href=\"https://colab.research.google.com/github/bryandelgado99/Fundamentos-de-IA/blob/main/Deber_1_Regresi%C3%B3n_Lineal.ipynb\" target=\"_parent\"><img src=\"https://colab.research.google.com/assets/colab-badge.svg\" alt=\"Open In Colab\"/></a>"
      ]
    },
    {
      "cell_type": "markdown",
      "source": [
        "**Deber 01 - Fubdamentos de Inteligencia Artificial**  \n",
        "Aprendizaje Supervisado - Clasificación\n",
        "\n",
        "Fecha: 25/11/2023"
      ],
      "metadata": {
        "id": "xwsVT4BtojPH"
      }
    },
    {
      "cell_type": "markdown",
      "source": [
        "1. Importación de librerías y lectura de datos"
      ],
      "metadata": {
        "id": "eBc4gygFre6f"
      }
    },
    {
      "cell_type": "code",
      "execution_count": 18,
      "metadata": {
        "colab": {
          "base_uri": "https://localhost:8080/",
          "height": 206
        },
        "id": "6dGrXp5mocJX",
        "outputId": "5cc84f9f-8800-45dc-da03-af883c95b4ae"
      },
      "outputs": [
        {
          "output_type": "execute_result",
          "data": {
            "text/plain": [
              "   age  sex     bmi  children  smoker      charges\n",
              "0   19    1  27.900         0       1  16884.92400\n",
              "1   18    0  33.770         1       0   1725.55230\n",
              "2   28    0  33.000         3       0   4449.46200\n",
              "3   33    0  22.705         0       0  21984.47061\n",
              "4   32    0  28.880         0       0   3866.85520"
            ],
            "text/html": [
              "\n",
              "  <div id=\"df-fe215ffa-f853-42b3-91c2-a8073185be0f\" class=\"colab-df-container\">\n",
              "    <div>\n",
              "<style scoped>\n",
              "    .dataframe tbody tr th:only-of-type {\n",
              "        vertical-align: middle;\n",
              "    }\n",
              "\n",
              "    .dataframe tbody tr th {\n",
              "        vertical-align: top;\n",
              "    }\n",
              "\n",
              "    .dataframe thead th {\n",
              "        text-align: right;\n",
              "    }\n",
              "</style>\n",
              "<table border=\"1\" class=\"dataframe\">\n",
              "  <thead>\n",
              "    <tr style=\"text-align: right;\">\n",
              "      <th></th>\n",
              "      <th>age</th>\n",
              "      <th>sex</th>\n",
              "      <th>bmi</th>\n",
              "      <th>children</th>\n",
              "      <th>smoker</th>\n",
              "      <th>charges</th>\n",
              "    </tr>\n",
              "  </thead>\n",
              "  <tbody>\n",
              "    <tr>\n",
              "      <th>0</th>\n",
              "      <td>19</td>\n",
              "      <td>1</td>\n",
              "      <td>27.900</td>\n",
              "      <td>0</td>\n",
              "      <td>1</td>\n",
              "      <td>16884.92400</td>\n",
              "    </tr>\n",
              "    <tr>\n",
              "      <th>1</th>\n",
              "      <td>18</td>\n",
              "      <td>0</td>\n",
              "      <td>33.770</td>\n",
              "      <td>1</td>\n",
              "      <td>0</td>\n",
              "      <td>1725.55230</td>\n",
              "    </tr>\n",
              "    <tr>\n",
              "      <th>2</th>\n",
              "      <td>28</td>\n",
              "      <td>0</td>\n",
              "      <td>33.000</td>\n",
              "      <td>3</td>\n",
              "      <td>0</td>\n",
              "      <td>4449.46200</td>\n",
              "    </tr>\n",
              "    <tr>\n",
              "      <th>3</th>\n",
              "      <td>33</td>\n",
              "      <td>0</td>\n",
              "      <td>22.705</td>\n",
              "      <td>0</td>\n",
              "      <td>0</td>\n",
              "      <td>21984.47061</td>\n",
              "    </tr>\n",
              "    <tr>\n",
              "      <th>4</th>\n",
              "      <td>32</td>\n",
              "      <td>0</td>\n",
              "      <td>28.880</td>\n",
              "      <td>0</td>\n",
              "      <td>0</td>\n",
              "      <td>3866.85520</td>\n",
              "    </tr>\n",
              "  </tbody>\n",
              "</table>\n",
              "</div>\n",
              "    <div class=\"colab-df-buttons\">\n",
              "\n",
              "  <div class=\"colab-df-container\">\n",
              "    <button class=\"colab-df-convert\" onclick=\"convertToInteractive('df-fe215ffa-f853-42b3-91c2-a8073185be0f')\"\n",
              "            title=\"Convert this dataframe to an interactive table.\"\n",
              "            style=\"display:none;\">\n",
              "\n",
              "  <svg xmlns=\"http://www.w3.org/2000/svg\" height=\"24px\" viewBox=\"0 -960 960 960\">\n",
              "    <path d=\"M120-120v-720h720v720H120Zm60-500h600v-160H180v160Zm220 220h160v-160H400v160Zm0 220h160v-160H400v160ZM180-400h160v-160H180v160Zm440 0h160v-160H620v160ZM180-180h160v-160H180v160Zm440 0h160v-160H620v160Z\"/>\n",
              "  </svg>\n",
              "    </button>\n",
              "\n",
              "  <style>\n",
              "    .colab-df-container {\n",
              "      display:flex;\n",
              "      gap: 12px;\n",
              "    }\n",
              "\n",
              "    .colab-df-convert {\n",
              "      background-color: #E8F0FE;\n",
              "      border: none;\n",
              "      border-radius: 50%;\n",
              "      cursor: pointer;\n",
              "      display: none;\n",
              "      fill: #1967D2;\n",
              "      height: 32px;\n",
              "      padding: 0 0 0 0;\n",
              "      width: 32px;\n",
              "    }\n",
              "\n",
              "    .colab-df-convert:hover {\n",
              "      background-color: #E2EBFA;\n",
              "      box-shadow: 0px 1px 2px rgba(60, 64, 67, 0.3), 0px 1px 3px 1px rgba(60, 64, 67, 0.15);\n",
              "      fill: #174EA6;\n",
              "    }\n",
              "\n",
              "    .colab-df-buttons div {\n",
              "      margin-bottom: 4px;\n",
              "    }\n",
              "\n",
              "    [theme=dark] .colab-df-convert {\n",
              "      background-color: #3B4455;\n",
              "      fill: #D2E3FC;\n",
              "    }\n",
              "\n",
              "    [theme=dark] .colab-df-convert:hover {\n",
              "      background-color: #434B5C;\n",
              "      box-shadow: 0px 1px 3px 1px rgba(0, 0, 0, 0.15);\n",
              "      filter: drop-shadow(0px 1px 2px rgba(0, 0, 0, 0.3));\n",
              "      fill: #FFFFFF;\n",
              "    }\n",
              "  </style>\n",
              "\n",
              "    <script>\n",
              "      const buttonEl =\n",
              "        document.querySelector('#df-fe215ffa-f853-42b3-91c2-a8073185be0f button.colab-df-convert');\n",
              "      buttonEl.style.display =\n",
              "        google.colab.kernel.accessAllowed ? 'block' : 'none';\n",
              "\n",
              "      async function convertToInteractive(key) {\n",
              "        const element = document.querySelector('#df-fe215ffa-f853-42b3-91c2-a8073185be0f');\n",
              "        const dataTable =\n",
              "          await google.colab.kernel.invokeFunction('convertToInteractive',\n",
              "                                                    [key], {});\n",
              "        if (!dataTable) return;\n",
              "\n",
              "        const docLinkHtml = 'Like what you see? Visit the ' +\n",
              "          '<a target=\"_blank\" href=https://colab.research.google.com/notebooks/data_table.ipynb>data table notebook</a>'\n",
              "          + ' to learn more about interactive tables.';\n",
              "        element.innerHTML = '';\n",
              "        dataTable['output_type'] = 'display_data';\n",
              "        await google.colab.output.renderOutput(dataTable, element);\n",
              "        const docLink = document.createElement('div');\n",
              "        docLink.innerHTML = docLinkHtml;\n",
              "        element.appendChild(docLink);\n",
              "      }\n",
              "    </script>\n",
              "  </div>\n",
              "\n",
              "\n",
              "<div id=\"df-8bae6b20-7164-45eb-8743-8b2628672945\">\n",
              "  <button class=\"colab-df-quickchart\" onclick=\"quickchart('df-8bae6b20-7164-45eb-8743-8b2628672945')\"\n",
              "            title=\"Suggest charts\"\n",
              "            style=\"display:none;\">\n",
              "\n",
              "<svg xmlns=\"http://www.w3.org/2000/svg\" height=\"24px\"viewBox=\"0 0 24 24\"\n",
              "     width=\"24px\">\n",
              "    <g>\n",
              "        <path d=\"M19 3H5c-1.1 0-2 .9-2 2v14c0 1.1.9 2 2 2h14c1.1 0 2-.9 2-2V5c0-1.1-.9-2-2-2zM9 17H7v-7h2v7zm4 0h-2V7h2v10zm4 0h-2v-4h2v4z\"/>\n",
              "    </g>\n",
              "</svg>\n",
              "  </button>\n",
              "\n",
              "<style>\n",
              "  .colab-df-quickchart {\n",
              "      --bg-color: #E8F0FE;\n",
              "      --fill-color: #1967D2;\n",
              "      --hover-bg-color: #E2EBFA;\n",
              "      --hover-fill-color: #174EA6;\n",
              "      --disabled-fill-color: #AAA;\n",
              "      --disabled-bg-color: #DDD;\n",
              "  }\n",
              "\n",
              "  [theme=dark] .colab-df-quickchart {\n",
              "      --bg-color: #3B4455;\n",
              "      --fill-color: #D2E3FC;\n",
              "      --hover-bg-color: #434B5C;\n",
              "      --hover-fill-color: #FFFFFF;\n",
              "      --disabled-bg-color: #3B4455;\n",
              "      --disabled-fill-color: #666;\n",
              "  }\n",
              "\n",
              "  .colab-df-quickchart {\n",
              "    background-color: var(--bg-color);\n",
              "    border: none;\n",
              "    border-radius: 50%;\n",
              "    cursor: pointer;\n",
              "    display: none;\n",
              "    fill: var(--fill-color);\n",
              "    height: 32px;\n",
              "    padding: 0;\n",
              "    width: 32px;\n",
              "  }\n",
              "\n",
              "  .colab-df-quickchart:hover {\n",
              "    background-color: var(--hover-bg-color);\n",
              "    box-shadow: 0 1px 2px rgba(60, 64, 67, 0.3), 0 1px 3px 1px rgba(60, 64, 67, 0.15);\n",
              "    fill: var(--button-hover-fill-color);\n",
              "  }\n",
              "\n",
              "  .colab-df-quickchart-complete:disabled,\n",
              "  .colab-df-quickchart-complete:disabled:hover {\n",
              "    background-color: var(--disabled-bg-color);\n",
              "    fill: var(--disabled-fill-color);\n",
              "    box-shadow: none;\n",
              "  }\n",
              "\n",
              "  .colab-df-spinner {\n",
              "    border: 2px solid var(--fill-color);\n",
              "    border-color: transparent;\n",
              "    border-bottom-color: var(--fill-color);\n",
              "    animation:\n",
              "      spin 1s steps(1) infinite;\n",
              "  }\n",
              "\n",
              "  @keyframes spin {\n",
              "    0% {\n",
              "      border-color: transparent;\n",
              "      border-bottom-color: var(--fill-color);\n",
              "      border-left-color: var(--fill-color);\n",
              "    }\n",
              "    20% {\n",
              "      border-color: transparent;\n",
              "      border-left-color: var(--fill-color);\n",
              "      border-top-color: var(--fill-color);\n",
              "    }\n",
              "    30% {\n",
              "      border-color: transparent;\n",
              "      border-left-color: var(--fill-color);\n",
              "      border-top-color: var(--fill-color);\n",
              "      border-right-color: var(--fill-color);\n",
              "    }\n",
              "    40% {\n",
              "      border-color: transparent;\n",
              "      border-right-color: var(--fill-color);\n",
              "      border-top-color: var(--fill-color);\n",
              "    }\n",
              "    60% {\n",
              "      border-color: transparent;\n",
              "      border-right-color: var(--fill-color);\n",
              "    }\n",
              "    80% {\n",
              "      border-color: transparent;\n",
              "      border-right-color: var(--fill-color);\n",
              "      border-bottom-color: var(--fill-color);\n",
              "    }\n",
              "    90% {\n",
              "      border-color: transparent;\n",
              "      border-bottom-color: var(--fill-color);\n",
              "    }\n",
              "  }\n",
              "</style>\n",
              "\n",
              "  <script>\n",
              "    async function quickchart(key) {\n",
              "      const quickchartButtonEl =\n",
              "        document.querySelector('#' + key + ' button');\n",
              "      quickchartButtonEl.disabled = true;  // To prevent multiple clicks.\n",
              "      quickchartButtonEl.classList.add('colab-df-spinner');\n",
              "      try {\n",
              "        const charts = await google.colab.kernel.invokeFunction(\n",
              "            'suggestCharts', [key], {});\n",
              "      } catch (error) {\n",
              "        console.error('Error during call to suggestCharts:', error);\n",
              "      }\n",
              "      quickchartButtonEl.classList.remove('colab-df-spinner');\n",
              "      quickchartButtonEl.classList.add('colab-df-quickchart-complete');\n",
              "    }\n",
              "    (() => {\n",
              "      let quickchartButtonEl =\n",
              "        document.querySelector('#df-8bae6b20-7164-45eb-8743-8b2628672945 button');\n",
              "      quickchartButtonEl.style.display =\n",
              "        google.colab.kernel.accessAllowed ? 'block' : 'none';\n",
              "    })();\n",
              "  </script>\n",
              "</div>\n",
              "    </div>\n",
              "  </div>\n"
            ]
          },
          "metadata": {},
          "execution_count": 18
        }
      ],
      "source": [
        "# 1. Importamos las librerías necesarias\n",
        "import pandas as pd\n",
        "import matplotlib.pyplot as plt\n",
        "from sklearn.model_selection import train_test_split\n",
        "from sklearn.linear_model import LinearRegression\n",
        "from sklearn.metrics import mean_squared_error, r2_score\n",
        "\n",
        "# 2. Leemos el archivo archivo csv\n",
        "datos = pd.read_csv(\"/content/seguro_salud.csv\")\n",
        "\n",
        "# 3. Mostramos los datos\n",
        "datos.head()"
      ]
    },
    {
      "cell_type": "markdown",
      "source": [
        "2. Diferenciación de datos, separación de test y prueba"
      ],
      "metadata": {
        "id": "xJcnArlDoize"
      }
    },
    {
      "cell_type": "code",
      "source": [
        "# 4. Separamos los datos de entrada X con características e Y con etiquetas\n",
        "x = datos.iloc[:,:-1] #Selecciona todas las columnas menos la última\n",
        "y = datos.iloc[:,-1]\n",
        "\n",
        "# 5. Dividimos las variables y obtenemos los datos detest prueba\n",
        "# 70% de entrenamienot y 30% de prueba\n",
        "x_train, x_test, y_train, y_test = train_test_split(x, y, test_size = 0.3, random_state= 25)\n",
        "\n",
        "# 6. Creamos el modelo y lo entrenamos con los datos de prueba y entrenamiento\n",
        "modelo = LinearRegression()\n",
        "modelo.fit(x_train, y_train)\n",
        "\n",
        "# 7. Probamos el modelo, su funcionamiento y el obtener datos\n",
        "y_obtenido = modelo.predict(x_test)"
      ],
      "metadata": {
        "id": "qSgAa-g9rr_I"
      },
      "execution_count": 22,
      "outputs": []
    },
    {
      "cell_type": "markdown",
      "source": [
        "3. Métricas de evaluación"
      ],
      "metadata": {
        "id": "Ja9tvo-Qsv3h"
      }
    },
    {
      "cell_type": "code",
      "source": [
        "# 8. Métricas de evaluación\n",
        "# 8.1. Error obtenido\n",
        "error = mean_squared_error(y_test, y_obtenido)\n",
        "print(f\"El error es: {error}\")\n",
        "\n",
        "# 8.2. Coeficiente de determinación\n",
        "r2 = r2_score(y_test, y_obtenido)\n",
        "print(f\"El coeficiente de determinación es: {r2}\")"
      ],
      "metadata": {
        "colab": {
          "base_uri": "https://localhost:8080/"
        },
        "id": "FV-uhmOBsyzF",
        "outputId": "797f5393-da90-46d1-96e8-8fce44b4d3c9"
      },
      "execution_count": 20,
      "outputs": [
        {
          "output_type": "stream",
          "name": "stdout",
          "text": [
            "El error es: 39203730.08764166\n",
            "El coeficiente de determinación es: 0.736338062107516\n"
          ]
        }
      ]
    },
    {
      "cell_type": "markdown",
      "source": [
        "**4. Evaluamos un nuevo modelo**"
      ],
      "metadata": {
        "id": "FpCe3sjnwlla"
      }
    },
    {
      "cell_type": "markdown",
      "source": [
        "Pare este caso y una vez desarrollado todo el entrenamiento de datos, vamos a predecir 3 nuevos eventos con los siguientes condicionales de datos:\n",
        "\n",
        "El conjunto de datos está en formato CSV y contiene las siguientes columnas:\n",
        "-\tage: edad del beneficiario principal\n",
        "\n",
        "-\tsex: genero del beneficiario principal (0: masculino, 1: femenino)\n",
        "\n",
        "-\tbmi: índice de masa corporal (kg/m)\n",
        "\n",
        "-\tchildren: número de niños cubiertos por el seguro de salud\n",
        "\n",
        "-\tsmoker: fumador (0: No, 1: Sí)\n",
        "\n",
        "- charges: costos facturados por el seguro de salud\n",
        "\n",
        "El orden de los datos es el siguiente:\n",
        "age,\tsex,\tbmi,\tchildren,\tsmoker,\tcharges\n"
      ],
      "metadata": {
        "id": "mB6EAOnrxX9L"
      }
    },
    {
      "cell_type": "markdown",
      "source": [
        "\n",
        "*a. Hombre, 33 años, sin hijos, fumador, con IBM de 40 kg/m*"
      ],
      "metadata": {
        "id": "6a1FVxwXyB3F"
      }
    },
    {
      "cell_type": "code",
      "source": [
        "# Creamos una nueva predicción\n",
        "precio = modelo.predict([[33, 0, 40, 0, 1]])\n",
        "print(f\"El precio es: {precio}\")\n",
        "\n",
        "# Imprimimos los valores de esta nueva prediccion\n",
        "print(f\"El coeficiente B1 es: {modelo.coef_}\")\n",
        "print(f\"La Intercepción es: {modelo.intercept_}\")"
      ],
      "metadata": {
        "colab": {
          "base_uri": "https://localhost:8080/"
        },
        "id": "GEwXCH0XwpFi",
        "outputId": "92e3d6f9-9c3d-4b28-d099-d969fb1281f4"
      },
      "execution_count": 23,
      "outputs": [
        {
          "output_type": "stream",
          "name": "stdout",
          "text": [
            "El precio es: [33443.06674053]\n",
            "El coeficiente B1 es: [  263.21240374   -37.70158672   292.35256747   450.14519738\n",
            " 24417.24981936]\n",
            "La Intercepción es: -11354.295100844214\n"
          ]
        },
        {
          "output_type": "stream",
          "name": "stderr",
          "text": [
            "/usr/local/lib/python3.10/dist-packages/sklearn/base.py:439: UserWarning: X does not have valid feature names, but LinearRegression was fitted with feature names\n",
            "  warnings.warn(\n"
          ]
        }
      ]
    },
    {
      "cell_type": "markdown",
      "source": [
        "*b. Mujer, 45 años, 2 hijos, fumador, con IBM de 25 kg/m*"
      ],
      "metadata": {
        "id": "ZxAkr8RKxn6o"
      }
    },
    {
      "cell_type": "code",
      "source": [
        "# Creamos una nueva predicción\n",
        "precio = modelo.predict([[45, 1, 25, 2, 1]])\n",
        "print(f\"El precio es: {precio}\")\n",
        "\n",
        "# Imprimimos los valores de esta nueva prediccion\n",
        "print(f\"El coeficiente B1 es: {modelo.coef_}\")\n",
        "print(f\"La Intercepción es: {modelo.intercept_}\")"
      ],
      "metadata": {
        "colab": {
          "base_uri": "https://localhost:8080/"
        },
        "id": "84N8p3RPxjp8",
        "outputId": "510b071d-bdaf-4571-c847-82267440d28a"
      },
      "execution_count": 24,
      "outputs": [
        {
          "output_type": "stream",
          "name": "stdout",
          "text": [
            "El precio es: [33078.91588138]\n",
            "El coeficiente B1 es: [  263.21240374   -37.70158672   292.35256747   450.14519738\n",
            " 24417.24981936]\n",
            "La Intercepción es: -11354.295100844214\n"
          ]
        },
        {
          "output_type": "stream",
          "name": "stderr",
          "text": [
            "/usr/local/lib/python3.10/dist-packages/sklearn/base.py:439: UserWarning: X does not have valid feature names, but LinearRegression was fitted with feature names\n",
            "  warnings.warn(\n"
          ]
        }
      ]
    },
    {
      "cell_type": "markdown",
      "source": [
        "*c. Hombre, 60 años, 3 hijos, no fuma, con IBM de 33 kg/m*"
      ],
      "metadata": {
        "id": "OYbLwJTwxpih"
      }
    },
    {
      "cell_type": "code",
      "source": [
        "# Creamos una nueva predicción\n",
        "precio = modelo.predict([[60, 0, 33, 3, 0]])\n",
        "print(f\"El precio es: {precio}\")\n",
        "\n",
        "# Imprimimos los valores de esta nueva prediccion\n",
        "print(f\"El coeficiente B1 es: {modelo.coef_}\")\n",
        "print(f\"La Intercepción es: {modelo.intercept_}\")"
      ],
      "metadata": {
        "colab": {
          "base_uri": "https://localhost:8080/"
        },
        "id": "6e8KosQExrP1",
        "outputId": "45645b57-d4af-457b-9cc6-50b563100627"
      },
      "execution_count": 25,
      "outputs": [
        {
          "output_type": "stream",
          "name": "stdout",
          "text": [
            "El precio es: [15436.5194419]\n",
            "El coeficiente B1 es: [  263.21240374   -37.70158672   292.35256747   450.14519738\n",
            " 24417.24981936]\n",
            "La Intercepción es: -11354.295100844214\n"
          ]
        },
        {
          "output_type": "stream",
          "name": "stderr",
          "text": [
            "/usr/local/lib/python3.10/dist-packages/sklearn/base.py:439: UserWarning: X does not have valid feature names, but LinearRegression was fitted with feature names\n",
            "  warnings.warn(\n"
          ]
        }
      ]
    },
    {
      "cell_type": "markdown",
      "source": [
        "5. Creación de diagrama entre edad y costo de seguro"
      ],
      "metadata": {
        "id": "USLvq-sK-fmE"
      }
    },
    {
      "cell_type": "code",
      "source": [
        "import matplotlib.pyplot as plt\n",
        "\n",
        "plt.scatter(x['age'], y)\n",
        "plt.title(\"Regresión Lineal\")\n",
        "plt.xlabel(\"Edad\")\n",
        "plt.ylabel(\"Costo del Seguro de Salud\")\n",
        "plt.show()"
      ],
      "metadata": {
        "colab": {
          "base_uri": "https://localhost:8080/",
          "height": 472
        },
        "id": "ND2q_TVa-jtK",
        "outputId": "bd416d34-b5c9-4816-af4f-b3fbf9021e83"
      },
      "execution_count": 26,
      "outputs": [
        {
          "output_type": "display_data",
          "data": {
            "text/plain": [
              "<Figure size 640x480 with 1 Axes>"
            ],
            "image/png": "[encoded data removed]"
          },
          "metadata": {}
        }
      ]
    }
  ]
}