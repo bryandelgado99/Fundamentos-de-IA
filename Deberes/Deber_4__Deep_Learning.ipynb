{
 "cells": [
  {
   "cell_type": "markdown",
   "metadata": {},
   "source": [
    "# Deber 4 -  Deep Learning\n",
    "\n",
    "Para ello, se utiliza el conjunto de datos Fashion MNIST, el cual es un conjunto de imágenes que representa prendas de ropa en escala de grises. \n",
    "Fashion MNIST consta de 60,000 imágenes. Cada imagen tiene un tamaño de 28x28 píxeles y pertenece a una de las 10 categorías de prendas de vestir. \n",
    "\n",
    "Estas categorías incluyen:\n",
    " \n",
    "- Camiseta/top\n",
    "- Pantalón\n",
    "- Suéter\n",
    "- Vestido\n",
    "- Abrigo\n",
    "- Sandalia\n",
    "- Camisa\n",
    "- Zapatilla deportiva\n",
    "- Bolso\n",
    "- Botín\n"
   ]
  },
  {
   "cell_type": "code",
   "execution_count": 1,
   "metadata": {},
   "outputs": [],
   "source": [
    "# 0. Importamos las librerias necesarias\n",
    "\n",
    "import tensorflow as tf\n",
    "from tensorflow import keras\n",
    "import matplotlib.pyplot as plt"
   ]
  },
  {
   "cell_type": "code",
   "execution_count": 3,
   "metadata": {},
   "outputs": [
    {
     "data": {
      "text/plain": [
       "<matplotlib.image.AxesImage at 0x1673f0ccd10>"
      ]
     },
     "execution_count": 3,
     "metadata": {},
     "output_type": "execute_result"
    },
    {
     "data": {
      "image/png": "[encoded data removed]",
      "text/plain": [
       "<Figure size 640x480 with 1 Axes>"
      ]
     },
     "metadata": {},
     "output_type": "display_data"
    }
   ],
   "source": [
    "# 1. Cargamos los datos  de entrenamiento y pruebas, además del dataset de datos\n",
    "(x_train, y_train), (x_test, y_test) = keras.datasets.fashion_mnist.load_data()\n",
    "\n",
    "'''Mostramos la imagen de datos'''\n",
    "plt.imshow(x_train[500])"
   ]
  },
  {
   "cell_type": "code",
   "execution_count": 4,
   "metadata": {},
   "outputs": [],
   "source": [
    "# 2. Preparamos los datos, conocemos el tamaño de datos y transormamos a binario\n",
    "x_train.shape\n",
    "\n",
    "x_train = x_train.astype(\"float32\")/255\n",
    "x_test = x_test.astype(\"float32\")/255\n",
    "\n",
    "# 3. Combiamos la forma de datos en escala de grises y su tamaño de pixeles 28op * 28p\n",
    "x_train = x_train.reshape(-1, 28, 28, 1)\n",
    "x_test = x_test.reshape(-1, 28, 28, 1)"
   ]
  },
  {
   "cell_type": "markdown",
   "metadata": {},
   "source": [
    "## Arquitectura de la red neuronal convulcional"
   ]
  },
  {
   "cell_type": "code",
   "execution_count": 5,
   "metadata": {},
   "outputs": [
    {
     "name": "stderr",
     "output_type": "stream",
     "text": [
      "C:\\Users\\bryan\\AppData\\Local\\Packages\\PythonSoftwareFoundation.Python.3.11_qbz5n2kfra8p0\\LocalCache\\local-packages\\Python311\\site-packages\\keras\\src\\layers\\convolutional\\base_conv.py:99: UserWarning: Do not pass an `input_shape`/`input_dim` argument to a layer. When using Sequential models, prefer using an `Input(shape)` object as the first layer in the model instead.\n",
      "  super().__init__(\n"
     ]
    }
   ],
   "source": [
    "from tensorflow.keras.layers import Conv2D, MaxPooling2D, Flatten, Dense\n",
    "\n",
    "# 3. Definimos las capas de esta red, siendo el mecanismo princpial de análisis de datos\n",
    "\n",
    "'''A. Capa Convulcional: Incluye filtros, kernel, función de activación y forma de entrada'''\n",
    "convulcional_ly = Conv2D(32, kernel_size=(3,3), activation=\"relu\", input_shape=(28, 28, 1))\n",
    "\n",
    "'''B. Capa de Agrupamiento: Incluye cada región de 2x2 pixeles de entrada, se reducen a uno solo'''\n",
    "agrupamiento_ly = MaxPooling2D(pool_size=(2,2))\n",
    "\n",
    "'''C. Capa de Aplanamiento'''\n",
    "aplanamiento_ly = Flatten()\n",
    "\n",
    "'''D. Capas ocultas: Incluyen los números de neuronas componentes de estoss elementos'''\n",
    "ocultas_ly = Dense(units=64, activation=\"relu\")\n",
    "\n",
    "'''E. Capa de salida'''\n",
    "salida_ly = Dense(units=10, activation=\"softmax\")\n",
    "\n",
    "# 3.1. Definimos el modelo\n",
    "modelo = keras.Sequential([convulcional_ly, agrupamiento_ly, aplanamiento_ly, ocultas_ly, salida_ly])"
   ]
  }
 ],
 "metadata": {
  "kernelspec": {
   "display_name": "Python 3",
   "language": "python",
   "name": "python3"
  },
  "language_info": {
   "codemirror_mode": {
    "name": "ipython",
    "version": 3
   },
   "file_extension": ".py",
   "mimetype": "text/x-python",
   "name": "python",
   "nbconvert_exporter": "python",
   "pygments_lexer": "ipython3",
   "version": "3.11.7"
  }
 },
 "nbformat": 4,
 "nbformat_minor": 2
}
