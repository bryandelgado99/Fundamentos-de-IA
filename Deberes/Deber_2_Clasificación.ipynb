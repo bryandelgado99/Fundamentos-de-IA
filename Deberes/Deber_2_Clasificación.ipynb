{
 "cells": [
  {
   "cell_type": "markdown",
   "metadata": {},
   "source": [
    "**Deber 02 - Fubdamentos de Inteligencia Artificial**  \n",
    "Árbol de Decisiones\n",
    "\n",
    "Fecha: 25/11/2023"
   ]
  },
  {
   "cell_type": "code",
   "execution_count": 7,
   "metadata": {},
   "outputs": [
    {
     "name": "stdout",
     "output_type": "stream",
     "text": [
      "     Age  Sex  BP  Cholesterol  Na_to_K  Drug\n",
      "0     23    1   2            1   25.355     4\n",
      "1     47    0   0            1   13.093     2\n",
      "2     47    0   0            1   10.114     2\n",
      "3     28    1   1            1    7.798     3\n",
      "4     61    1   0            1   18.043     4\n",
      "..   ...  ...  ..          ...      ...   ...\n",
      "195   56    1   0            1   11.567     2\n",
      "196   16    0   0            1   12.006     2\n",
      "197   52    0   1            1    9.894     3\n",
      "198   23    0   1            0   14.020     3\n",
      "199   40    1   0            0   11.349     3\n",
      "\n",
      "[200 rows x 6 columns]\n"
     ]
    }
   ],
   "source": [
    "# 1. Importación de librerías y lectura de datos\n",
    "\n",
    "import pandas as pd\n",
    "import matplotlib.pyplot as plt\n",
    "from sklearn.model_selection import train_test_split\n",
    "from sklearn.metrics import accuracy_score, confusion_matrix\n",
    "from sklearn.tree import DecisionTreeClassifier\n",
    "\n",
    "#Leer archivo\n",
    "datos=pd.read_excel(\"./files/medicinas.xlsx\")\n",
    "#Muestra los datos\n",
    "datos.head()\n",
    "#Describe las características del datasheet\n",
    "datos.describe()\n",
    "\n",
    "#2. Borramos columna unamed\n",
    "datos = datos.drop('Unnamed: 0', axis=1)\n",
    "print(datos)"
   ]
  },
  {
   "cell_type": "code",
   "execution_count": 8,
   "metadata": {},
   "outputs": [],
   "source": [
    "# 3. Separamos los datos de entrada X con características y Y con etiquetas\n",
    "x = datos.iloc[:,:-1] #Selecciona todas las columnas menos la última\n",
    "y = datos.iloc[:,-1]\n",
    "\n",
    "# 4. Obtenemos el conjunto de datos (75% entrenamiento y 25% prueba)\n",
    "x_train, x_test, y_train, y_test = train_test_split(x, y, test_size = 0.25, random_state= 25)"
   ]
  },
  {
   "cell_type": "code",
   "execution_count": 11,
   "metadata": {},
   "outputs": [],
   "source": [
    "# 5. Construimos el modelo bajo el modelo de análisis \"Árbol de Decisión\"\n",
    "modelo = DecisionTreeClassifier()\n",
    "\n",
    "# 6. Entrenamos el modelo, probamos y obtenemos los datos\n",
    "modelo.fit(x_train,y_train)\n",
    "y_obtenido = modelo.predict(x_test)"
   ]
  },
  {
   "cell_type": "code",
   "execution_count": 12,
   "metadata": {},
   "outputs": [
    {
     "name": "stdout",
     "output_type": "stream",
     "text": [
      "La excatitud obtenida es de: 0.98\n"
     ]
    }
   ],
   "source": [
    "# 7. Obtenemos las métricas de evaluación\n",
    "#Accurancy Score\n",
    "exactitud = accuracy_score(y_test, y_obtenido)\n",
    "print(f\"La excatitud obtenida es de: {exactitud}\")\n",
    "\n",
    "#Matriz de Confusión\n",
    "matriz = confusion_matrix(y_test, y_obtenido)"
   ]
  },
  {
   "cell_type": "code",
   "execution_count": 13,
   "metadata": {},
   "outputs": [
    {
     "data": {
      "image/png": "[encoded data removed]",
      "text/plain": [
       "<Figure size 640x480 with 2 Axes>"
      ]
     },
     "metadata": {},
     "output_type": "display_data"
    },
    {
     "name": "stdout",
     "output_type": "stream",
     "text": [
      "La matriz de confusión obtenida equivale a: [[ 5  0  0  0  0]\n",
      " [ 0  4  0  0  0]\n",
      " [ 0  0  6  0  0]\n",
      " [ 0  0  0 12  1]\n",
      " [ 0  0  0  0 22]]\n"
     ]
    }
   ],
   "source": [
    "# 7.1 Dibujamos la matriz de confusión por medio de mapa de calor\n",
    "import seaborn as sns\n",
    "\n",
    "sns.heatmap(matriz, annot=True, fmt='d', cmap=\"viridis\")\n",
    "plt.show()\n",
    "\n",
    "print(f\"La matriz de confusión obtenida equivale a: {matriz}\")\n"
   ]
  },
  {
   "cell_type": "markdown",
   "metadata": {},
   "source": [
    "## Entrenamiento de nuevos modelos\n",
    "\n",
    "Para el entrenamiento de los nuevos modelos, el órden de predicción será en base a los siguientes datos:\n",
    "El conjunto de datos está en formato excel y contiene las siguientes columnas:\n",
    "\n",
    "- age: edad del paciente\n",
    "\n",
    "- sex: genero del paciente principal (0: masculino, 1: femenino)\n",
    "\n",
    "- Blood Pressure Levels (BP): niveles de presión arterial (Bajo: 0, Normal: 1, Alto: 2)\n",
    "\n",
    "- Cholesterol Levels: nivel de colesterol (Alto:1, Normal:0)\n",
    "\n",
    "- Na to Potassium Ration: concentraciones de sodio y potasio en el cuerpo humano\n",
    "\n",
    "- Drug: Tipos de medicamentos (0,1,2,3,4)\n"
   ]
  },
  {
   "cell_type": "markdown",
   "metadata": {},
   "source": [
    "1. Hombre, 45 años, con presión arterial alta, colesterol normal y concentración de sodio y potasio de 12."
   ]
  },
  {
   "cell_type": "code",
   "execution_count": 14,
   "metadata": {},
   "outputs": [
    {
     "name": "stdout",
     "output_type": "stream",
     "text": [
      "\n",
      "El tipo de medicamento para administrar al, o a la paciente, es: [0]\n"
     ]
    },
    {
     "name": "stderr",
     "output_type": "stream",
     "text": [
      "C:\\Users\\bryan\\AppData\\Local\\Packages\\PythonSoftwareFoundation.Python.3.11_qbz5n2kfra8p0\\LocalCache\\local-packages\\Python311\\site-packages\\sklearn\\base.py:465: UserWarning: X does not have valid feature names, but DecisionTreeClassifier was fitted with feature names\n",
      "  warnings.warn(\n"
     ]
    }
   ],
   "source": [
    "#Predicción 1\n",
    "medicinas = modelo.predict([[45, 0, 2, 0, 12]])\n",
    "print(f\"\\nEl tipo de medicamento para administrar al, o a la paciente, es: {medicinas}\")"
   ]
  },
  {
   "cell_type": "markdown",
   "metadata": {},
   "source": [
    "2. Mujer, 30 años, con presión arterial normal, colesterol normal y concentración de sodio y potasio de 30."
   ]
  },
  {
   "cell_type": "code",
   "execution_count": 15,
   "metadata": {},
   "outputs": [
    {
     "name": "stdout",
     "output_type": "stream",
     "text": [
      "\n",
      "El tipo de medicamento para administrar al, o a la paciente, es: [4]\n"
     ]
    },
    {
     "name": "stderr",
     "output_type": "stream",
     "text": [
      "C:\\Users\\bryan\\AppData\\Local\\Packages\\PythonSoftwareFoundation.Python.3.11_qbz5n2kfra8p0\\LocalCache\\local-packages\\Python311\\site-packages\\sklearn\\base.py:465: UserWarning: X does not have valid feature names, but DecisionTreeClassifier was fitted with feature names\n",
      "  warnings.warn(\n"
     ]
    }
   ],
   "source": [
    "#Predicción 2\n",
    "medicinas = modelo.predict([[30, 1, 1, 0, 30]])\n",
    "print(f\"\\nEl tipo de medicamento para administrar al, o a la paciente, es: {medicinas}\")"
   ]
  },
  {
   "cell_type": "markdown",
   "metadata": {},
   "source": [
    "3. Mujer, 65 años, con presión arterial bajo, colesterol alto y concentración de sodio y potasio de 7."
   ]
  },
  {
   "cell_type": "code",
   "execution_count": 16,
   "metadata": {},
   "outputs": [
    {
     "name": "stdout",
     "output_type": "stream",
     "text": [
      "\n",
      "El tipo de medicamento para administrar al, o a la paciente, es: [2]\n"
     ]
    },
    {
     "name": "stderr",
     "output_type": "stream",
     "text": [
      "C:\\Users\\bryan\\AppData\\Local\\Packages\\PythonSoftwareFoundation.Python.3.11_qbz5n2kfra8p0\\LocalCache\\local-packages\\Python311\\site-packages\\sklearn\\base.py:465: UserWarning: X does not have valid feature names, but DecisionTreeClassifier was fitted with feature names\n",
      "  warnings.warn(\n"
     ]
    }
   ],
   "source": [
    "#Predicción 3\n",
    "medicinas = modelo.predict([[65, 1, 0, 1, 7]])\n",
    "print(f\"\\nEl tipo de medicamento para administrar al, o a la paciente, es: {medicinas}\")"
   ]
  },
  {
   "cell_type": "markdown",
   "metadata": {},
   "source": [
    "## Importancia de datos\n",
    "\n",
    "La importancia de datos se refiere a la influencia de los datos dentro del modelo predictivo; en sí, nos indica que datos van a ser determinantes en la obtención de un valor del resultado."
   ]
  },
  {
   "cell_type": "code",
   "execution_count": 20,
   "metadata": {},
   "outputs": [
    {
     "name": "stdout",
     "output_type": "stream",
     "text": [
      "0.13944480309877338, Age\n",
      "0.0, Sex\n",
      "0.266593480392004, BP\n",
      "0.10946753866449604, Cholesterol\n",
      "0.4844941778447267, Na_to_K\n"
     ]
    },
    {
     "data": {
      "text/plain": [
       "<Axes: xlabel='BP', ylabel='Na_to_K'>"
      ]
     },
     "execution_count": 20,
     "metadata": {},
     "output_type": "execute_result"
    },
    {
     "data": {
      "image/png": "[encoded data removed]",
      "text/plain": [
       "<Figure size 640x480 with 1 Axes>"
      ]
     },
     "metadata": {},
     "output_type": "display_data"
    }
   ],
   "source": [
    "# 8. Caracteristicas e importancias - estas metricas solo para árbol de decisión\n",
    "importancia = modelo.feature_importances_\n",
    "\n",
    "# 9. Obtenemos los nombres de las características\n",
    "nombres = datos.columns.tolist()\n",
    "\n",
    "for nombre_carc, impt in zip(importancia, nombres):\n",
    "    print(f'{nombre_carc}, {impt}')\n",
    "\n",
    "# 10. Graficamos la relevancia de estos datos como un mapa de dispersión\n",
    "sns.scatterplot(data=datos, x=\"BP\", y=\"Na_to_K\", hue=\"Drug\")"
   ]
  }
 ],
 "metadata": {
  "kernelspec": {
   "display_name": "Python 3",
   "language": "python",
   "name": "python3"
  },
  "language_info": {
   "codemirror_mode": {
    "name": "ipython",
    "version": 3
   },
   "file_extension": ".py",
   "mimetype": "text/x-python",
   "name": "python",
   "nbconvert_exporter": "python",
   "pygments_lexer": "ipython3",
   "version": "3.11.6"
  }
 },
 "nbformat": 4,
 "nbformat_minor": 2
}
