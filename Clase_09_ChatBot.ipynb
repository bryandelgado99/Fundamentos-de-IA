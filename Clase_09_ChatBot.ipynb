{
  "nbformat": 4,
  "nbformat_minor": 0,
  "metadata": {
    "colab": {
      "provenance": [],
      "authorship_tag": "ABX9TyOyxRFeSS1NzqfRbfaGsH6Y",
      "include_colab_link": true
    },
    "kernelspec": {
      "name": "python3",
      "display_name": "Python 3"
    },
    "language_info": {
      "name": "python"
    }
  },
  "cells": [
    {
      "cell_type": "markdown",
      "metadata": {
        "id": "view-in-github",
        "colab_type": "text"
      },
      "source": [
        "<a href=\"https://colab.research.google.com/github/bryandelgado99/Fundamentos-de-IA/blob/main/Clase_09_ChatBot.ipynb\" target=\"_parent\"><img src=\"https://colab.research.google.com/assets/colab-badge.svg\" alt=\"Open In Colab\"/></a>"
      ]
    },
    {
      "cell_type": "markdown",
      "source": [
        "#### Importamos las librerias\n",
        "import time\n",
        "import nltk\n",
        "\n",
        "from nltk.chat.util import Chat, reflections\n",
        "\n",
        "reglas = [\n",
        "    [\"Hola|hola|Buenos Dias\", [\"Hola, en qué te puedo ayudar?\",]],\n",
        "    [\"¿Cuál es el precio de (.*)?\", [\"El precio es de $ 1 por cada unidad.\",]],\n",
        "    [\"¿Cuál es el horario de atención?\", [\"Nuestro horario es: Lunes a viernes de 7am a 4 pm, Sábados y Domingos de 9am a 2pm\",]],\n",
        "    [\"(.*)\", [\"Lo siento, no te puedo entender\",]],\n",
        "]\n",
        "\n",
        "#### Creamos chatbot en base a las reglas anteriores\n",
        "chat = Chat(reglas, reflections)\n",
        "\n",
        "#### Inicialización de conversación\n",
        "print(\"Bienvenido al ChatBot de Paul\")\n",
        "while True:\n",
        "  time.sleep(10)\n",
        "  entrada = input()\n",
        "  if entrada.lower() == \"chao\":\n",
        "    print(\"Adios!\")\n",
        "    break\n",
        "  print(chat.respond(entrada))"
      ],
      "metadata": {
        "id": "zyBzG00LoHZ8"
      }
    },
    {
      "cell_type": "code",
      "source": [
        "import time\n",
        "import nltk\n",
        "\n",
        "from nltk.chat.util import Chat, reflections\n",
        "\n",
        "reglas = [\n",
        "    [\"Hola|hola|Buenos Dias\", [\"Hola, en qué te puedo ayudar?\",]],\n",
        "    [\"¿Puedes decirme como pasar el área costera de Silent Hill 2?\", [\"\\nMuy bien, para poder pasat esta área debes navegar en bote durante 5 minutos (en tiemp real). \\n Si conduces sin desviarte, puedes conseguir un arma oculta en el juego (aproximadamente a 3 minutos de coundcción recta).\",]],\n",
        "    [\"¿Cómo temrinar Mario Bros?\", [\"Para terminar Mario Bros debes recorrer un total de 8 mundos con 4 niveles c/u. Un total de 32 niveles. \\n En el castillo final debes cortar la cadena del puente y lanzar a Bowser a la lava.\",]],\n",
        "    [\"¿Cómo desbloqueo el BitBot de COD Black OPS: Zombies?\", [\"Desbloquear esta arma es un tanto complicado. Debes hacer evitar matar al último zombie de la última ronda del juego; \\n además, no debes tener nivelada ningun arma al máximo. Un completo desafio para jugadores extremos.\",]],\n",
        "    [\"¿Sabes sacar el trofeo más difícil de Gear of War 3?\", [\"El logro llamado 'Seriamente 3.0' es uno de los más complejos del mundo del juego. \\n Solo sé que debes matar a 34 000 enemigos y obtener 600 000 almas oscuras.\",]],\n",
        "    [\"¿Sabes como recuperar su amor?\", [\"Lo siento, no hago milagros UwU\",]],\n",
        "    [\"(.*)\", [\"\\nLo siento, no te puedo entender\",]],\n",
        "]\n",
        "\n",
        "# Creamos chatbot en base a las reglas anteriores\n",
        "chat = Chat(reglas, reflections)\n",
        "\n",
        "# Inicialización de conversación\n",
        "print(\"----------------------------------- Bienvenido al ChatBot de Paul -----------------------------------\")\n",
        "while True:\n",
        "  time.sleep(10)\n",
        "  entrada = input()\n",
        "  if entrada.lower() == \"chao\":\n",
        "    print(\"Adios!\")\n",
        "    break\n",
        "  print(chat.respond(entrada))\n",
        "\n"
      ],
      "metadata": {
        "colab": {
          "base_uri": "https://localhost:8080/"
        },
        "id": "xS-KDZdKmi2d",
        "outputId": "a6c3a33b-0aac-4a67-c8de-2ba44d7ec15a"
      },
      "execution_count": null,
      "outputs": [
        {
          "output_type": "stream",
          "name": "stdout",
          "text": [
            "----------------------------------- Bienvenido al ChatBot de Paul -----------------------------------\n",
            "Hola\n",
            "Hola, en qué te puedo ayudar?\n",
            "¿Sabes como recuperar su amor?\n",
            "Lo siento, no hago milagros UwU\n"
          ]
        }
      ]
    },
    {
      "cell_type": "code",
      "source": [],
      "metadata": {
        "id": "EIIqV7OYrw9J"
      },
      "execution_count": null,
      "outputs": []
    }
  ]
}