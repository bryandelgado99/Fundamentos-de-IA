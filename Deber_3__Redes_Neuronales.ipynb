{
  "nbformat": 4,
  "nbformat_minor": 0,
  "metadata": {
    "colab": {
      "provenance": [],
      "authorship_tag": "ABX9TyNYMgy007FeHwJeXIGkOTex",
      "include_colab_link": true
    },
    "kernelspec": {
      "name": "python3",
      "display_name": "Python 3"
    },
    "language_info": {
      "name": "python"
    }
  },
  "cells": [
    {
      "cell_type": "markdown",
      "metadata": {
        "id": "view-in-github",
        "colab_type": "text"
      },
      "source": [
        "<a href=\"https://colab.research.google.com/github/bryandelgado99/Fundamentos-de-IA/blob/main/Deber_3__Redes_Neuronales.ipynb\" target=\"_parent\"><img src=\"https://colab.research.google.com/assets/colab-badge.svg\" alt=\"Open In Colab\"/></a>"
      ]
    },
    {
      "cell_type": "markdown",
      "source": [
        "# Deber 3 -  Redes Neuronales\n",
        "## Nombre: Bryan Delgado\n",
        "## Fecha: 24-12-2023\n",
        "\n",
        "El propósito de esta tarea es entrenar un modelo de redes neuronales que pueda predecir el precio de una casa en función de diversas características.\n",
        "\n",
        "El conjunto de datos está en formato .csv y contiene las siguientes columnas:\n",
        "-\t*Price* (Precio de la casa): Esta es la variable objetivo que queremos predecir. Representa el precio de una casa.\n",
        "-\t*Crime_rate* (Tasa de criminalidad): Indica la tasa de criminalidad en la zona.\n",
        "-\t*Resid_area* (Área residencial): Representa el tamaño del área residencial en la que se encuentra la casa.\n",
        "-\t*Air_qual* (Calidad del aire): Mide la calidad del aire en la zona.\n",
        "-\t*Room_num* (Número de habitaciones): Indica la cantidad de habitaciones en la casa.\n",
        "-\t*Age* (Edad): Representa la antigüedad de la casa en años.\n",
        "-\t*Dist1, Dist2, Dist3, Dist4* (Distancias a puntos específicos): Estas columnas representan distancias a diferentes puntos de interés o servicios en la zona. Estos puntos podrían incluir escuelas, centros comerciales, parques, etc.\n",
        "-\t*Airport* (Aeropuerto): Una variable categórica que indica si hay un aeropuerto cercano (1:\"YES\") o no (0:\"NO\").\n"
      ],
      "metadata": {
        "id": "KslPz2re2tE8"
      }
    },
    {
      "cell_type": "code",
      "source": [
        "# 0. Importamos las librerias necesarias\n",
        "from sklearn.model_selection import train_test_split\n",
        "import tensorflow as tf\n",
        "from tensorflow import keras\n",
        "import pandas as pd\n",
        "import matplotlib.pyplot as plt\n",
        "import numpy as np"
      ],
      "metadata": {
        "id": "rjueTLPz3VW5"
      },
      "execution_count": 47,
      "outputs": []
    },
    {
      "cell_type": "code",
      "source": [
        "# 1. Leemos el archivo CSV\n",
        "archivo = pd.read_csv(\"/content/precio.csv\")\n",
        "print(archivo.head())"
      ],
      "metadata": {
        "colab": {
          "base_uri": "https://localhost:8080/"
        },
        "id": "Gf4nuR_Y3ZBR",
        "outputId": "d706941d-80ea-43f7-f8de-d3566b340756"
      },
      "execution_count": 3,
      "outputs": [
        {
          "output_type": "stream",
          "name": "stdout",
          "text": [
            "   price  crime_rate  resid_area  air_qual  room_num   age  dist1  dist2  \\\n",
            "0   24.0     0.00632       32.31     0.538     6.575  65.2   4.35   3.81   \n",
            "1   21.6     0.02731       37.07     0.469     6.421  78.9   4.99   4.70   \n",
            "2   34.7     0.02729       37.07     0.469     7.185  61.1   5.03   4.86   \n",
            "3   33.4     0.03237       32.18     0.458     6.998  45.8   6.21   5.93   \n",
            "4   36.2     0.06905       32.18     0.458     7.147  54.2   6.16   5.86   \n",
            "\n",
            "   dist3  dist4  airport  \n",
            "0   4.18   4.01        1  \n",
            "1   5.12   5.06        0  \n",
            "2   5.01   4.97        0  \n",
            "3   6.16   5.96        1  \n",
            "4   6.37   5.86        0  \n"
          ]
        }
      ]
    },
    {
      "cell_type": "code",
      "source": [
        "# 2. Separamos los datos de entrada y salida\n",
        "x = archivo[['crime_rate', 'resid_area', 'air_qual', 'room_num', 'age', 'dist1', 'dist2', 'dist3', 'dist4', 'airport']]\n",
        "y = archivo[['price']]\n",
        "\n",
        "#x = archivo.iloc[:,:0]\n",
        "#y = archivo.iloc[:, 0] #Primera columna"
      ],
      "metadata": {
        "id": "KnC5yBiv3bQD"
      },
      "execution_count": 37,
      "outputs": []
    },
    {
      "cell_type": "code",
      "source": [
        "# 3. Dividimos datos en aprendizaje y prueba\n",
        "x_train, x_test, y_train, y_test = train_test_split(x, y, test_size=0.3, random_state=25)"
      ],
      "metadata": {
        "id": "qzsc8rCX3eHt"
      },
      "execution_count": 39,
      "outputs": []
    },
    {
      "cell_type": "code",
      "source": [
        "# 4. Creamos las capas del modelo, mediante las unidades de cómputo y los elementos\n",
        "# La capa de entrada toma los valores de X y los analiza, tomando comportamientos comunes\n",
        "capa_entrada = tf.keras.layers.Dense(units=1, input_shape=[10]) #Las input_shapes corresponden a los elementos de X obtenidos en el paso 3\n",
        "# La capa de salida presenta la predicción analítica final de las capas anteriores\n",
        "capa_salida = tf.keras.layers.Dense(units=1)\n",
        "# Las capa ocultas procesan la información y las une en partes comunes, para facilitar el tratamiento del modelo\n",
        "capa_oculta_A = tf.keras.layers.Dense(units=5)\n",
        "capa_oculta_B = tf.keras.layers.Dense(units=5)\n",
        "# Definición del modelo\n",
        "modelo = tf.keras.Sequential([capa_entrada, capa_oculta_A, capa_oculta_B, capa_salida])"
      ],
      "metadata": {
        "id": "-76WXe5k3gBF"
      },
      "execution_count": 40,
      "outputs": []
    },
    {
      "cell_type": "code",
      "source": [
        "# 5. Definimos el modelo con Tensorflow - Keras y lo compilamos mediante 'adams'\n",
        "modelo.compile(optimizer='adam', loss='mean_squared_error')"
      ],
      "metadata": {
        "id": "RUBynMHo3i-T"
      },
      "execution_count": 41,
      "outputs": []
    },
    {
      "cell_type": "code",
      "source": [
        "# 5. Entrenamos el modelo con una base de epochs de 100\n",
        "historial = modelo.fit(x_train, y_train, epochs=10, batch_size=10)\n",
        "print(historial)"
      ],
      "metadata": {
        "colab": {
          "base_uri": "https://localhost:8080/"
        },
        "id": "lfRZjqRz3k0E",
        "outputId": "51ac8d09-121a-4fe6-dd83-91f97597b322"
      },
      "execution_count": 42,
      "outputs": [
        {
          "output_type": "stream",
          "name": "stdout",
          "text": [
            "Epoch 1/10\n",
            "36/36 [==============================] - 1s 2ms/step - loss: 676.7922\n",
            "Epoch 2/10\n",
            "36/36 [==============================] - 0s 3ms/step - loss: 345.1153\n",
            "Epoch 3/10\n",
            "36/36 [==============================] - 0s 2ms/step - loss: 186.8729\n",
            "Epoch 4/10\n",
            "36/36 [==============================] - 0s 2ms/step - loss: 166.8046\n",
            "Epoch 5/10\n",
            "36/36 [==============================] - 0s 2ms/step - loss: 159.7507\n",
            "Epoch 6/10\n",
            "36/36 [==============================] - 0s 2ms/step - loss: 154.2161\n",
            "Epoch 7/10\n",
            "36/36 [==============================] - 0s 2ms/step - loss: 150.5525\n",
            "Epoch 8/10\n",
            "36/36 [==============================] - 0s 2ms/step - loss: 145.1613\n",
            "Epoch 9/10\n",
            "36/36 [==============================] - 0s 2ms/step - loss: 140.4030\n",
            "Epoch 10/10\n",
            "36/36 [==============================] - 0s 2ms/step - loss: 136.6855\n",
            "<keras.src.callbacks.History object at 0x7ecebe823820>\n"
          ]
        }
      ]
    },
    {
      "cell_type": "code",
      "source": [
        "# 5.5 Gráfica para función de pérdida\n",
        "plt.plot(historial.history[\"loss\"])\n",
        "x = plt.xlabel(\"Pérdida\")"
      ],
      "metadata": {
        "colab": {
          "base_uri": "https://localhost:8080/",
          "height": 453
        },
        "id": "vKv7IDQesmTy",
        "outputId": "48bab08a-3a34-49be-d42f-dacb30f6cf8b"
      },
      "execution_count": 60,
      "outputs": [
        {
          "output_type": "display_data",
          "data": {
            "text/plain": [
              "<Figure size 640x480 with 1 Axes>"
            ],
            "image/png": "[encoded data removed]"
          },
          "metadata": {}
        }
      ]
    },
    {
      "cell_type": "code",
      "source": [
        "# 8. Evaluamos el modelo y definimos la pérdida de datos\n",
        "perdida =  modelo.evaluate(x_train, y_train)\n",
        "print(f\"La pérdida obtenida es de: {perdida}\")"
      ],
      "metadata": {
        "colab": {
          "base_uri": "https://localhost:8080/"
        },
        "id": "ZSr6u4ms3mcG",
        "outputId": "c9b503a5-9818-48ae-c47a-50abf2ab4fb1"
      },
      "execution_count": 43,
      "outputs": [
        {
          "output_type": "stream",
          "name": "stdout",
          "text": [
            "12/12 [==============================] - 0s 3ms/step - loss: 133.9950\n",
            "La pérdida obtenida es de: 133.9950408935547\n"
          ]
        }
      ]
    },
    {
      "cell_type": "markdown",
      "source": [
        "#Ejercicios de Comprobación y Rendimiento\n",
        "Para este caso, se emplearán ejercicios con casos, y elementos correspondientes a cada componente, para analizar la efectividad del modelo de red neuronal."
      ],
      "metadata": {
        "id": "PZQP6gPR8N5d"
      }
    },
    {
      "cell_type": "markdown",
      "source": [
        "-\tCaso 1:  \n",
        "  -\tTasa de criminalidad: 0.03\n",
        "  -\tÁrea residencial: 35.0\n",
        "  -\tCalidad del aire: 0.45\n",
        "  -\tNúmero de habitaciones: 7.0\n",
        "  -\tEdad de la casa: 30.0\n",
        "  -\tDistancia a punto 1: 5.0\n",
        "  -\tDistancia a punto 2: 4.8\n",
        "  -\tDistancia a punto 3: 5.2\n",
        "  -\tDistancia a punto 4: 5.0\n",
        "  -\tAeropuerto cercano: Sí\n"
      ],
      "metadata": {
        "id": "3Uh4-pYx8caX"
      }
    },
    {
      "cell_type": "code",
      "source": [
        "data_x = np.array([[0.03, 35.0, 0.45, 7.0, 30.0, 5.0, 4.8, 5.2, 5.0, 1]])\n",
        "\n",
        "prediccion = modelo.predict([data_x])\n",
        "print(f\"La predicción del Caso A es: {prediccion}\")"
      ],
      "metadata": {
        "colab": {
          "base_uri": "https://localhost:8080/"
        },
        "id": "Y8JwAK5G8wjL",
        "outputId": "823f68c9-0fbf-4274-a518-b4518b77bd35"
      },
      "execution_count": 55,
      "outputs": [
        {
          "output_type": "stream",
          "name": "stdout",
          "text": [
            "1/1 [==============================] - 0s 38ms/step\n",
            "La predicción del Caso A es: [[14.252769]]\n"
          ]
        }
      ]
    },
    {
      "cell_type": "markdown",
      "source": [
        "-\tCaso 2:\n",
        "  - Tasa de criminalidad: 0.02\n",
        "  - Área residencial: 40.0\n",
        "  - Calidad del aire: 0.50\n",
        "  - Número de habitaciones: 6.0\n",
        "  - Edad de la casa: 20.0\n",
        "  - Distancia a punto 1: 4.0\n",
        "  - Distancia a punto 2: 4.2\n",
        "  - Distancia a punto 3: 4.8\n",
        "  - Distancia a punto 4: 4.5\n",
        "  - Aeropuerto cercano: No\n"
      ],
      "metadata": {
        "id": "WigVabOK8xOR"
      }
    },
    {
      "cell_type": "code",
      "source": [
        "data_x = np.array([[0.02, 40, 0.50, 6, 20, 4, 4.2, 4.8, 4.5, 0]])\n",
        "\n",
        "prediccion = modelo.predict([data_x])\n",
        "print(f\"La predicción del Caso A es: {prediccion}\")"
      ],
      "metadata": {
        "id": "fwRxTs7O8xnM",
        "colab": {
          "base_uri": "https://localhost:8080/"
        },
        "outputId": "372676e3-8647-4902-dfe8-bfb4e63c02a9"
      },
      "execution_count": 56,
      "outputs": [
        {
          "output_type": "stream",
          "name": "stdout",
          "text": [
            "1/1 [==============================] - 0s 22ms/step\n",
            "La predicción del Caso A es: [[9.597738]]\n"
          ]
        }
      ]
    },
    {
      "cell_type": "markdown",
      "source": [
        "- Caso 3:\n",
        "  -\tTasa de criminalidad: 0.05\n",
        "  -\tÁrea residencial: 30.0\n",
        "  -\tCalidad del aire: 0.40\n",
        "  -\tNúmero de habitaciones: 8.0\n",
        "  -\tEdad de la casa: 40.0\n",
        "  -\tDistancia a punto 1: 6.0\n",
        "  -\tDistancia a punto 2: 5.5\n",
        "  -\tDistancia a punto 3: 6.2\n",
        "  -\tDistancia a punto 4: 6.0\n",
        "  -\tAeropuerto cercano: Sí\n"
      ],
      "metadata": {
        "id": "sMaEF__K8x6x"
      }
    },
    {
      "cell_type": "code",
      "source": [
        "data_x = np.array([[0.05, 30, 0.40, 8, 40, 6, 5.5, 6.2, 6, 1]])\n",
        "\n",
        "prediccion = modelo.predict([data_x])\n",
        "print(f\"La predicción del Caso A es: {prediccion}\")"
      ],
      "metadata": {
        "id": "Qm1FPrND8yWF",
        "colab": {
          "base_uri": "https://localhost:8080/"
        },
        "outputId": "9154bbd1-164d-437d-d4e2-353ac16e44b3"
      },
      "execution_count": 57,
      "outputs": [
        {
          "output_type": "stream",
          "name": "stdout",
          "text": [
            "1/1 [==============================] - 0s 37ms/step\n",
            "La predicción del Caso A es: [[19.304811]]\n"
          ]
        }
      ]
    }
  ]
}